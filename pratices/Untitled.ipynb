{
 "cells": [
  {
   "cell_type": "code",
   "execution_count": 1,
   "id": "aa15f939",
   "metadata": {},
   "outputs": [
    {
     "data": {
      "text/plain": [
       "'Marcos Vinícius'"
      ]
     },
     "execution_count": 1,
     "metadata": {},
     "output_type": "execute_result"
    }
   ],
   "source": [
    "nome = \"marcos vinícius\"\n",
    "nome.title()"
   ]
  },
  {
   "cell_type": "code",
   "execution_count": 3,
   "id": "e3d1b62b",
   "metadata": {},
   "outputs": [
    {
     "data": {
      "text/plain": [
       "0"
      ]
     },
     "execution_count": 3,
     "metadata": {},
     "output_type": "execute_result"
    }
   ],
   "source": [
    "0%2 or 0%3"
   ]
  },
  {
   "cell_type": "code",
   "execution_count": 4,
   "id": "0a315151",
   "metadata": {},
   "outputs": [
    {
     "data": {
      "text/plain": [
       "False"
      ]
     },
     "execution_count": 4,
     "metadata": {},
     "output_type": "execute_result"
    }
   ],
   "source": [
    "10>10"
   ]
  },
  {
   "cell_type": "code",
   "execution_count": 5,
   "id": "da4526aa",
   "metadata": {},
   "outputs": [
    {
     "data": {
      "text/plain": [
       "True"
      ]
     },
     "execution_count": 5,
     "metadata": {},
     "output_type": "execute_result"
    }
   ],
   "source": [
    "30>30 or not (0<0)"
   ]
  },
  {
   "cell_type": "code",
   "execution_count": 6,
   "id": "f82b8f5e",
   "metadata": {},
   "outputs": [
    {
     "data": {
      "text/plain": [
       "False"
      ]
     },
     "execution_count": 6,
     "metadata": {},
     "output_type": "execute_result"
    }
   ],
   "source": [
    "30>30 and not (0<0)"
   ]
  },
  {
   "cell_type": "code",
   "execution_count": 7,
   "id": "d597e855",
   "metadata": {},
   "outputs": [
    {
     "data": {
      "text/plain": [
       "True"
      ]
     },
     "execution_count": 7,
     "metadata": {},
     "output_type": "execute_result"
    }
   ],
   "source": [
    "35>30 and not (0<0)"
   ]
  },
  {
   "cell_type": "code",
   "execution_count": 10,
   "id": "d3ada7fc",
   "metadata": {},
   "outputs": [
    {
     "data": {
      "text/plain": [
       "False"
      ]
     },
     "execution_count": 10,
     "metadata": {},
     "output_type": "execute_result"
    }
   ],
   "source": [
    "18>=18 and not (6<7)"
   ]
  },
  {
   "cell_type": "code",
   "execution_count": 15,
   "id": "c5413ee5",
   "metadata": {},
   "outputs": [
    {
     "data": {
      "text/plain": [
       "True"
      ]
     },
     "execution_count": 15,
     "metadata": {},
     "output_type": "execute_result"
    }
   ],
   "source": [
    "24%2 == 0 or 24%3 == 0"
   ]
  },
  {
   "cell_type": "code",
   "execution_count": 16,
   "id": "7fb6db42",
   "metadata": {},
   "outputs": [
    {
     "data": {
      "text/plain": [
       "True"
      ]
     },
     "execution_count": 16,
     "metadata": {},
     "output_type": "execute_result"
    }
   ],
   "source": [
    "6==6 and 75<=75"
   ]
  },
  {
   "cell_type": "code",
   "execution_count": 18,
   "id": "d11ebd2d",
   "metadata": {},
   "outputs": [
    {
     "name": "stdout",
     "output_type": "stream",
     "text": [
      "maria\n",
      "julia\n"
     ]
    }
   ],
   "source": [
    "nomes = [\"maria\", \"julia\"]\n",
    "\n",
    "for nome in nomes:\n",
    "    print(nome)"
   ]
  },
  {
   "cell_type": "code",
   "execution_count": null,
   "id": "fd3b6ec7",
   "metadata": {},
   "outputs": [],
   "source": [
    "idade = 400\n",
    "while idade <0 or idade >150:\n",
    "    print(\"erro\")\n",
    "print(\"Obrigado\")"
   ]
  },
  {
   "cell_type": "code",
   "execution_count": null,
   "id": "51841a09",
   "metadata": {},
   "outputs": [],
   "source": [
    "maria = list(1,2,3)\n",
    "maria"
   ]
  },
  {
   "cell_type": "code",
   "execution_count": null,
   "id": "01ba3966",
   "metadata": {},
   "outputs": [],
   "source": [
    "maria = list(range(10))"
   ]
  },
  {
   "cell_type": "code",
   "execution_count": null,
   "id": "a090d0b7",
   "metadata": {},
   "outputs": [],
   "source": [
    "maria"
   ]
  },
  {
   "cell_type": "code",
   "execution_count": null,
   "id": "718fb7fe",
   "metadata": {},
   "outputs": [],
   "source": [
    "\n",
    "\n",
    "\n",
    "def par(lista):\n",
    "    \n",
    "    print(lista)\n",
    "    \n",
    "    par = 0\n",
    "    impar = 0\n",
    "    \n",
    "    for num in lista:\n",
    "        print(num)\n",
    "        \n",
    "        if num%2 == 0:\n",
    "            par+= 1\n",
    "        else:\n",
    "            impar+=1\n",
    "            \n",
    "        print(f\"{par} pares, {impar} ímpares\")\n",
    "        \n",
    "listagem= [1,2,3,4,5]\n",
    "par(listagem)"
   ]
  },
  {
   "cell_type": "code",
   "execution_count": 17,
   "id": "df55476d",
   "metadata": {},
   "outputs": [
    {
     "name": "stdout",
     "output_type": "stream",
     "text": [
      "[]\n",
      "2\n",
      "[0]\n",
      "1\n",
      "[0, 1]\n",
      "3\n",
      "[0, 1, 2]\n",
      "4\n",
      "[0, 1, 2, 3]\n",
      "[0, 1, 2, 3]\n"
     ]
    }
   ],
   "source": [
    "\n",
    "def twoSum(nums, target):\n",
    "\n",
    "    index = []\n",
    "    val = 0\n",
    "    print(index)\n",
    "\n",
    "    for number in nums:\n",
    "        val += number\n",
    "        print(number)\n",
    "        index.append(nums.index(number))\n",
    "        print(index)\n",
    "\n",
    "        if val == target:\n",
    "            break       \n",
    "    return index\n",
    "    \n",
    "\n",
    "lista = [2,1,3,4,6,5]\n",
    "\n",
    "print(twoSum(lista, 10))\n",
    "\n",
    "\n",
    "    \n",
    "\n",
    "\n",
    "        "
   ]
  },
  {
   "cell_type": "code",
   "execution_count": null,
   "id": "a6b8a84b",
   "metadata": {},
   "outputs": [],
   "source": []
  },
  {
   "cell_type": "code",
   "execution_count": null,
   "id": "9e62ab7c",
   "metadata": {},
   "outputs": [],
   "source": []
  },
  {
   "cell_type": "code",
   "execution_count": null,
   "id": "7f43794d",
   "metadata": {},
   "outputs": [],
   "source": []
  }
 ],
 "metadata": {
  "kernelspec": {
   "display_name": "Python 3 (ipykernel)",
   "language": "python",
   "name": "python3"
  },
  "language_info": {
   "codemirror_mode": {
    "name": "ipython",
    "version": 3
   },
   "file_extension": ".py",
   "mimetype": "text/x-python",
   "name": "python",
   "nbconvert_exporter": "python",
   "pygments_lexer": "ipython3",
   "version": "3.11.5"
  }
 },
 "nbformat": 4,
 "nbformat_minor": 5
}

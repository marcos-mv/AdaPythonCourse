{
 "cells": [
  {
   "cell_type": "markdown",
   "id": "fa95b9d3",
   "metadata": {},
   "source": [
    "Main types: Int, Float, string, bool\n",
    "\n",
    "\n",
    "\n"
   ]
  },
  {
   "cell_type": "code",
   "execution_count": 1,
   "id": "a64c1b78",
   "metadata": {},
   "outputs": [],
   "source": [
    "a = True"
   ]
  },
  {
   "cell_type": "code",
   "execution_count": 2,
   "id": "1bb45b4a",
   "metadata": {},
   "outputs": [
    {
     "data": {
      "text/plain": [
       "True"
      ]
     },
     "execution_count": 2,
     "metadata": {},
     "output_type": "execute_result"
    }
   ],
   "source": [
    "a"
   ]
  },
  {
   "cell_type": "code",
   "execution_count": null,
   "id": "03524f75",
   "metadata": {},
   "outputs": [],
   "source": [
    "# Testando Comentário ctrl /"
   ]
  },
  {
   "cell_type": "markdown",
   "id": "197a5b84",
   "metadata": {},
   "source": [
    "    Saídas:"
   ]
  },
  {
   "cell_type": "code",
   "execution_count": 3,
   "id": "4cf1c0f9",
   "metadata": {},
   "outputs": [],
   "source": [
    "a= \"1\"\n",
    "b= \"3\""
   ]
  },
  {
   "cell_type": "code",
   "execution_count": 4,
   "id": "8e5cd26a",
   "metadata": {},
   "outputs": [
    {
     "name": "stdout",
     "output_type": "stream",
     "text": [
      "1-3-OLA\n"
     ]
    }
   ],
   "source": [
    "print(a,b , \"OLA\", sep='-')"
   ]
  },
  {
   "cell_type": "code",
   "execution_count": 5,
   "id": "e9f28716",
   "metadata": {},
   "outputs": [
    {
     "name": "stdout",
     "output_type": "stream",
     "text": [
      "1\n",
      "3\n",
      "OLA\n"
     ]
    }
   ],
   "source": [
    "print(a,b , \"OLA\", sep='\\n')"
   ]
  },
  {
   "cell_type": "markdown",
   "id": "940ff48c",
   "metadata": {},
   "source": [
    "Inputs:"
   ]
  },
  {
   "cell_type": "code",
   "execution_count": 7,
   "id": "318e1b84",
   "metadata": {},
   "outputs": [
    {
     "name": "stdout",
     "output_type": "stream",
     "text": [
      "Marcos\n",
      "O usuário digitou:  Marcos\n"
     ]
    }
   ],
   "source": [
    "resultado = input()\n",
    "print(\"O usuário digitou: \" ,resultado)"
   ]
  },
  {
   "cell_type": "code",
   "execution_count": 8,
   "id": "c5304e5c",
   "metadata": {},
   "outputs": [
    {
     "name": "stdout",
     "output_type": "stream",
     "text": [
      "Digite seu nome: Maria\n",
      "Seu nome é:  Maria\n"
     ]
    }
   ],
   "source": [
    "nome = input(\"Digite seu nome: \")\n",
    "print(\"Seu nome é: \", nome)"
   ]
  },
  {
   "cell_type": "code",
   "execution_count": 9,
   "id": "ce8d3e26",
   "metadata": {},
   "outputs": [
    {
     "name": "stdout",
     "output_type": "stream",
     "text": [
      "Digite sua idade31\n"
     ]
    },
    {
     "data": {
      "text/plain": [
       "float"
      ]
     },
     "execution_count": 9,
     "metadata": {},
     "output_type": "execute_result"
    }
   ],
   "source": [
    "idade = float(input(\"Digite sua idade\"))\n",
    "type(idade)"
   ]
  },
  {
   "cell_type": "code",
   "execution_count": 11,
   "id": "1e315a8e",
   "metadata": {},
   "outputs": [
    {
     "data": {
      "text/plain": [
       "8"
      ]
     },
     "execution_count": 11,
     "metadata": {},
     "output_type": "execute_result"
    }
   ],
   "source": [
    "a = 2**3\n",
    "print(a)"
   ]
  },
  {
   "cell_type": "code",
   "execution_count": 12,
   "id": "953c4323",
   "metadata": {},
   "outputs": [
    {
     "data": {
      "text/plain": [
       "3"
      ]
     },
     "execution_count": 12,
     "metadata": {},
     "output_type": "execute_result"
    }
   ],
   "source": [
    "10//3"
   ]
  },
  {
   "cell_type": "code",
   "execution_count": 13,
   "id": "c98543a5",
   "metadata": {},
   "outputs": [
    {
     "data": {
      "text/plain": [
       "1"
      ]
     },
     "execution_count": 13,
     "metadata": {},
     "output_type": "execute_result"
    }
   ],
   "source": [
    "10%3"
   ]
  },
  {
   "cell_type": "code",
   "execution_count": 14,
   "id": "deae4388",
   "metadata": {},
   "outputs": [
    {
     "data": {
      "text/plain": [
       "1"
      ]
     },
     "execution_count": 14,
     "metadata": {},
     "output_type": "execute_result"
    }
   ],
   "source": [
    "89%2"
   ]
  },
  {
   "cell_type": "code",
   "execution_count": 15,
   "id": "0a7213e2",
   "metadata": {},
   "outputs": [
    {
     "data": {
      "text/plain": [
       "0"
      ]
     },
     "execution_count": 15,
     "metadata": {},
     "output_type": "execute_result"
    }
   ],
   "source": [
    "88%2"
   ]
  },
  {
   "cell_type": "code",
   "execution_count": 16,
   "id": "9f7f8ac8",
   "metadata": {},
   "outputs": [
    {
     "data": {
      "text/plain": [
       "3"
      ]
     },
     "execution_count": 16,
     "metadata": {},
     "output_type": "execute_result"
    }
   ],
   "source": [
    "a= 11\n",
    "b= 4\n",
    "a%b"
   ]
  },
  {
   "cell_type": "code",
   "execution_count": 17,
   "id": "10df0b06",
   "metadata": {},
   "outputs": [
    {
     "name": "stdout",
     "output_type": "stream",
     "text": [
      "3.0\n"
     ]
    }
   ],
   "source": [
    "print((3+6*2)/5)"
   ]
  },
  {
   "cell_type": "code",
   "execution_count": null,
   "id": "625b2d6e",
   "metadata": {},
   "outputs": [],
   "source": []
  }
 ],
 "metadata": {
  "kernelspec": {
   "display_name": "Python 3 (ipykernel)",
   "language": "python",
   "name": "python3"
  },
  "language_info": {
   "codemirror_mode": {
    "name": "ipython",
    "version": 3
   },
   "file_extension": ".py",
   "mimetype": "text/x-python",
   "name": "python",
   "nbconvert_exporter": "python",
   "pygments_lexer": "ipython3",
   "version": "3.11.5"
  }
 },
 "nbformat": 4,
 "nbformat_minor": 5
}

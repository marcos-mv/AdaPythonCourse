{
 "cells": [
  {
   "cell_type": "markdown",
   "id": "464405c1",
   "metadata": {},
   "source": [
    "# Aula 0 - Introdução, Jupyter e variáveis"
   ]
  },
  {
   "cell_type": "code",
   "execution_count": 2,
   "id": "ac883c8c",
   "metadata": {},
   "outputs": [
    {
     "name": "stdout",
     "output_type": "stream",
     "text": [
      "Digite o nome do indivíduo: Marcos\n",
      "Ola Marcos tudo bem com você?\n"
     ]
    }
   ],
   "source": [
    "nome = input(\"Digite o nome do indivíduo: \")\n",
    "print(\"Ola \"+nome+\"! Tudo bem com você?\")"
   ]
  },
  {
   "cell_type": "code",
   "execution_count": 3,
   "id": "37e5a9c8",
   "metadata": {},
   "outputs": [
    {
     "name": "stdout",
     "output_type": "stream",
     "text": [
      "4\n",
      "2.0\n",
      "6\n"
     ]
    }
   ],
   "source": [
    "print(2+2)\n",
    "print(4/2)\n",
    "print(2*3)\n"
   ]
  },
  {
   "cell_type": "code",
   "execution_count": 4,
   "id": "effa9ae2",
   "metadata": {},
   "outputs": [
    {
     "data": {
      "text/plain": [
       "4"
      ]
     },
     "execution_count": 4,
     "metadata": {},
     "output_type": "execute_result"
    }
   ],
   "source": [
    "2+2"
   ]
  },
  {
   "cell_type": "code",
   "execution_count": 6,
   "id": "f408dc6c",
   "metadata": {},
   "outputs": [
    {
     "data": {
      "text/plain": [
       "2.0"
      ]
     },
     "execution_count": 6,
     "metadata": {},
     "output_type": "execute_result"
    }
   ],
   "source": [
    "5*8\n",
    "2+2\n",
    "4/2\n",
    "\n"
   ]
  },
  {
   "cell_type": "code",
   "execution_count": 19,
   "id": "21156b80",
   "metadata": {},
   "outputs": [],
   "source": [
    "meu_numero = 2+3\n",
    "variavel = 2+2\n",
    "x = 2+3"
   ]
  },
  {
   "cell_type": "code",
   "execution_count": 20,
   "id": "a891a1c3",
   "metadata": {},
   "outputs": [
    {
     "name": "stdout",
     "output_type": "stream",
     "text": [
      "5\n",
      "4\n"
     ]
    }
   ],
   "source": [
    "print(meu_numero)\n",
    "print(variavel)"
   ]
  },
  {
   "cell_type": "code",
   "execution_count": 18,
   "id": "ea60a227",
   "metadata": {},
   "outputs": [
    {
     "name": "stdout",
     "output_type": "stream",
     "text": [
      "5\n"
     ]
    }
   ],
   "source": [
    "print(x)"
   ]
  },
  {
   "cell_type": "code",
   "execution_count": 21,
   "id": "967d1743",
   "metadata": {},
   "outputs": [],
   "source": [
    "meu_numero = 33"
   ]
  },
  {
   "cell_type": "code",
   "execution_count": 22,
   "id": "9bd281fe",
   "metadata": {},
   "outputs": [
    {
     "name": "stdout",
     "output_type": "stream",
     "text": [
      "33\n"
     ]
    }
   ],
   "source": [
    "print(meu_numero)"
   ]
  },
  {
   "cell_type": "code",
   "execution_count": null,
   "id": "b803e7db",
   "metadata": {},
   "outputs": [],
   "source": []
  }
 ],
 "metadata": {
  "kernelspec": {
   "display_name": "Python 3 (ipykernel)",
   "language": "python",
   "name": "python3"
  },
  "language_info": {
   "codemirror_mode": {
    "name": "ipython",
    "version": 3
   },
   "file_extension": ".py",
   "mimetype": "text/x-python",
   "name": "python",
   "nbconvert_exporter": "python",
   "pygments_lexer": "ipython3",
   "version": "3.11.5"
  }
 },
 "nbformat": 4,
 "nbformat_minor": 5
}

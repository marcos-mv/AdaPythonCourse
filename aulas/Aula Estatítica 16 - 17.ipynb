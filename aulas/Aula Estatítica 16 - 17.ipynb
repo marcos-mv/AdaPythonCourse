{
 "cells": [
  {
   "cell_type": "code",
   "execution_count": 1,
   "id": "422a3afd",
   "metadata": {},
   "outputs": [],
   "source": [
    "dados = '''\n",
    "Uruguay 1930 FIFA World Cup -- 4.375 \n",
    "\n",
    "Italy 1934 FIFA World Cup -- 4.12\n",
    "\n",
    "France 1938 FIFA World Cup -- 4.67\n",
    "\n",
    "Brazil 1950 FIFA World Cup -- 4\n",
    "\n",
    "Switzerland 1954 FIFA World Cup -- 5.38 \n",
    "\n",
    "Sweden 1958 FIFA World Cup -- 3.6\n",
    "\n",
    "Chile 1962 FIFA World Cup -- 2.79\n",
    "\n",
    "England 1966 FIFA World Cup -- 2.79\n",
    "\n",
    "Mexico 1970 FIFA World Cup -- 2.97\n",
    "\n",
    "West Germany 1974 FIFA World Cup -- 2.55\n",
    "\n",
    "Argentina 1978 FIFA World Cup -- 2.68\n",
    "\n",
    "Spain 1982 FIFA World Cup -- 2.81\n",
    "\n",
    "Mexico 1986 FIFA World Cup -- 2.54\n",
    "\n",
    "Italy 1990 FIFA World Cup -- 2.21 \n",
    "\n",
    "United States 1994 FIFA World Cup -- 2.71\n",
    "\n",
    "France 1998 FIFA World Cup -- 2.67\n",
    "\n",
    "South Korea and Japan 2002 FIFA World Cup -- 2.52\n",
    "\n",
    "Germany 2006 FIFA World Cup -- 2.30\n",
    "\n",
    "South Africa 2010 FIFA World Cup -- 2.27\n",
    "\n",
    "Brazil 2014 FIFA World Cup -- 2.67\n",
    "\n",
    "Russia 2018 FIFA World Cup -- 2.64\n",
    "\n",
    "Qatar 2022 FIFA World Cup --  2.69 \n",
    "'''"
   ]
  },
  {
   "cell_type": "code",
   "execution_count": 2,
   "id": "029f2ef3",
   "metadata": {},
   "outputs": [],
   "source": [
    "lista = dados.split(\"\\n\\n\")"
   ]
  },
  {
   "cell_type": "code",
   "execution_count": 3,
   "id": "6b323495",
   "metadata": {},
   "outputs": [
    {
     "data": {
      "text/plain": [
       "'Italy 1934 FIFA World Cup -- 4.12'"
      ]
     },
     "execution_count": 3,
     "metadata": {},
     "output_type": "execute_result"
    }
   ],
   "source": [
    "lista[1]"
   ]
  },
  {
   "cell_type": "code",
   "execution_count": 4,
   "id": "9f95d39b",
   "metadata": {},
   "outputs": [],
   "source": [
    "value = lista[1].split(\" -- \")"
   ]
  },
  {
   "cell_type": "code",
   "execution_count": 5,
   "id": "0f29c6a7",
   "metadata": {},
   "outputs": [
    {
     "data": {
      "text/plain": [
       "'4.12'"
      ]
     },
     "execution_count": 5,
     "metadata": {},
     "output_type": "execute_result"
    }
   ],
   "source": [
    "number = value[1]\n",
    "number"
   ]
  },
  {
   "cell_type": "code",
   "execution_count": 6,
   "id": "b09f3056",
   "metadata": {},
   "outputs": [
    {
     "data": {
      "text/plain": [
       "str"
      ]
     },
     "execution_count": 6,
     "metadata": {},
     "output_type": "execute_result"
    }
   ],
   "source": [
    "type(number)"
   ]
  },
  {
   "cell_type": "code",
   "execution_count": 7,
   "id": "c5f5c912",
   "metadata": {},
   "outputs": [
    {
     "data": {
      "text/plain": [
       "[4.375,\n",
       " 4.12,\n",
       " 4.67,\n",
       " 4.0,\n",
       " 5.38,\n",
       " 3.6,\n",
       " 2.79,\n",
       " 2.79,\n",
       " 2.97,\n",
       " 2.55,\n",
       " 2.68,\n",
       " 2.81,\n",
       " 2.54,\n",
       " 2.21,\n",
       " 2.71,\n",
       " 2.67,\n",
       " 2.52,\n",
       " 2.3,\n",
       " 2.27,\n",
       " 2.67,\n",
       " 2.64,\n",
       " 2.69]"
      ]
     },
     "execution_count": 7,
     "metadata": {},
     "output_type": "execute_result"
    }
   ],
   "source": [
    "media_de_gols = [float(x.split(\" -- \")[1]) for x in dados.split(\"\\n\\n\")]\n",
    "media_de_gols"
   ]
  },
  {
   "cell_type": "code",
   "execution_count": 8,
   "id": "903df670",
   "metadata": {},
   "outputs": [
    {
     "data": {
      "text/plain": [
       "3.0888636363636364"
      ]
     },
     "execution_count": 8,
     "metadata": {},
     "output_type": "execute_result"
    }
   ],
   "source": [
    "import numpy as np\n",
    "\n",
    "media1 = np.array(media_de_gols).mean()\n",
    "media1"
   ]
  },
  {
   "cell_type": "code",
   "execution_count": 9,
   "id": "85b1a8ae",
   "metadata": {},
   "outputs": [
    {
     "data": {
      "text/plain": [
       "3.0888636363636364"
      ]
     },
     "execution_count": 9,
     "metadata": {},
     "output_type": "execute_result"
    }
   ],
   "source": [
    "media = sum(media_de_gols)/len(media_de_gols)\n",
    "media"
   ]
  },
  {
   "cell_type": "code",
   "execution_count": 10,
   "id": "a4dbb9d6",
   "metadata": {},
   "outputs": [],
   "source": [
    "import pandas as pd\n",
    "import matplotlib.pyplot as plt\n",
    "import seaborn as sns"
   ]
  },
  {
   "cell_type": "code",
   "execution_count": 11,
   "id": "0bc98a53",
   "metadata": {},
   "outputs": [
    {
     "data": {
      "text/html": [
       "<div>\n",
       "<style scoped>\n",
       "    .dataframe tbody tr th:only-of-type {\n",
       "        vertical-align: middle;\n",
       "    }\n",
       "\n",
       "    .dataframe tbody tr th {\n",
       "        vertical-align: top;\n",
       "    }\n",
       "\n",
       "    .dataframe thead th {\n",
       "        text-align: right;\n",
       "    }\n",
       "</style>\n",
       "<table border=\"1\" class=\"dataframe\">\n",
       "  <thead>\n",
       "    <tr style=\"text-align: right;\">\n",
       "      <th></th>\n",
       "      <th>pclass</th>\n",
       "      <th>survived</th>\n",
       "      <th>name</th>\n",
       "      <th>sex</th>\n",
       "      <th>age</th>\n",
       "      <th>sibsp</th>\n",
       "      <th>parch</th>\n",
       "      <th>ticket</th>\n",
       "      <th>fare</th>\n",
       "      <th>cabin</th>\n",
       "      <th>embarked</th>\n",
       "      <th>boat</th>\n",
       "      <th>body</th>\n",
       "      <th>home.dest</th>\n",
       "    </tr>\n",
       "  </thead>\n",
       "  <tbody>\n",
       "    <tr>\n",
       "      <th>0</th>\n",
       "      <td>1</td>\n",
       "      <td>1</td>\n",
       "      <td>Allen, Miss. Elisabeth Walton</td>\n",
       "      <td>female</td>\n",
       "      <td>29.0000</td>\n",
       "      <td>0</td>\n",
       "      <td>0</td>\n",
       "      <td>24160</td>\n",
       "      <td>211.3375</td>\n",
       "      <td>B5</td>\n",
       "      <td>S</td>\n",
       "      <td>2</td>\n",
       "      <td>NaN</td>\n",
       "      <td>St Louis, MO</td>\n",
       "    </tr>\n",
       "    <tr>\n",
       "      <th>1</th>\n",
       "      <td>1</td>\n",
       "      <td>1</td>\n",
       "      <td>Allison, Master. Hudson Trevor</td>\n",
       "      <td>male</td>\n",
       "      <td>0.9167</td>\n",
       "      <td>1</td>\n",
       "      <td>2</td>\n",
       "      <td>113781</td>\n",
       "      <td>151.5500</td>\n",
       "      <td>C22 C26</td>\n",
       "      <td>S</td>\n",
       "      <td>11</td>\n",
       "      <td>NaN</td>\n",
       "      <td>Montreal, PQ / Chesterville, ON</td>\n",
       "    </tr>\n",
       "    <tr>\n",
       "      <th>2</th>\n",
       "      <td>1</td>\n",
       "      <td>0</td>\n",
       "      <td>Allison, Miss. Helen Loraine</td>\n",
       "      <td>female</td>\n",
       "      <td>2.0000</td>\n",
       "      <td>1</td>\n",
       "      <td>2</td>\n",
       "      <td>113781</td>\n",
       "      <td>151.5500</td>\n",
       "      <td>C22 C26</td>\n",
       "      <td>S</td>\n",
       "      <td>NaN</td>\n",
       "      <td>NaN</td>\n",
       "      <td>Montreal, PQ / Chesterville, ON</td>\n",
       "    </tr>\n",
       "    <tr>\n",
       "      <th>3</th>\n",
       "      <td>1</td>\n",
       "      <td>0</td>\n",
       "      <td>Allison, Mr. Hudson Joshua Creighton</td>\n",
       "      <td>male</td>\n",
       "      <td>30.0000</td>\n",
       "      <td>1</td>\n",
       "      <td>2</td>\n",
       "      <td>113781</td>\n",
       "      <td>151.5500</td>\n",
       "      <td>C22 C26</td>\n",
       "      <td>S</td>\n",
       "      <td>NaN</td>\n",
       "      <td>135.0</td>\n",
       "      <td>Montreal, PQ / Chesterville, ON</td>\n",
       "    </tr>\n",
       "    <tr>\n",
       "      <th>4</th>\n",
       "      <td>1</td>\n",
       "      <td>0</td>\n",
       "      <td>Allison, Mrs. Hudson J C (Bessie Waldo Daniels)</td>\n",
       "      <td>female</td>\n",
       "      <td>25.0000</td>\n",
       "      <td>1</td>\n",
       "      <td>2</td>\n",
       "      <td>113781</td>\n",
       "      <td>151.5500</td>\n",
       "      <td>C22 C26</td>\n",
       "      <td>S</td>\n",
       "      <td>NaN</td>\n",
       "      <td>NaN</td>\n",
       "      <td>Montreal, PQ / Chesterville, ON</td>\n",
       "    </tr>\n",
       "    <tr>\n",
       "      <th>...</th>\n",
       "      <td>...</td>\n",
       "      <td>...</td>\n",
       "      <td>...</td>\n",
       "      <td>...</td>\n",
       "      <td>...</td>\n",
       "      <td>...</td>\n",
       "      <td>...</td>\n",
       "      <td>...</td>\n",
       "      <td>...</td>\n",
       "      <td>...</td>\n",
       "      <td>...</td>\n",
       "      <td>...</td>\n",
       "      <td>...</td>\n",
       "      <td>...</td>\n",
       "    </tr>\n",
       "    <tr>\n",
       "      <th>1304</th>\n",
       "      <td>3</td>\n",
       "      <td>0</td>\n",
       "      <td>Zabour, Miss. Hileni</td>\n",
       "      <td>female</td>\n",
       "      <td>14.5000</td>\n",
       "      <td>1</td>\n",
       "      <td>0</td>\n",
       "      <td>2665</td>\n",
       "      <td>14.4542</td>\n",
       "      <td>NaN</td>\n",
       "      <td>C</td>\n",
       "      <td>NaN</td>\n",
       "      <td>328.0</td>\n",
       "      <td>NaN</td>\n",
       "    </tr>\n",
       "    <tr>\n",
       "      <th>1305</th>\n",
       "      <td>3</td>\n",
       "      <td>0</td>\n",
       "      <td>Zabour, Miss. Thamine</td>\n",
       "      <td>female</td>\n",
       "      <td>NaN</td>\n",
       "      <td>1</td>\n",
       "      <td>0</td>\n",
       "      <td>2665</td>\n",
       "      <td>14.4542</td>\n",
       "      <td>NaN</td>\n",
       "      <td>C</td>\n",
       "      <td>NaN</td>\n",
       "      <td>NaN</td>\n",
       "      <td>NaN</td>\n",
       "    </tr>\n",
       "    <tr>\n",
       "      <th>1306</th>\n",
       "      <td>3</td>\n",
       "      <td>0</td>\n",
       "      <td>Zakarian, Mr. Mapriededer</td>\n",
       "      <td>male</td>\n",
       "      <td>26.5000</td>\n",
       "      <td>0</td>\n",
       "      <td>0</td>\n",
       "      <td>2656</td>\n",
       "      <td>7.2250</td>\n",
       "      <td>NaN</td>\n",
       "      <td>C</td>\n",
       "      <td>NaN</td>\n",
       "      <td>304.0</td>\n",
       "      <td>NaN</td>\n",
       "    </tr>\n",
       "    <tr>\n",
       "      <th>1307</th>\n",
       "      <td>3</td>\n",
       "      <td>0</td>\n",
       "      <td>Zakarian, Mr. Ortin</td>\n",
       "      <td>male</td>\n",
       "      <td>27.0000</td>\n",
       "      <td>0</td>\n",
       "      <td>0</td>\n",
       "      <td>2670</td>\n",
       "      <td>7.2250</td>\n",
       "      <td>NaN</td>\n",
       "      <td>C</td>\n",
       "      <td>NaN</td>\n",
       "      <td>NaN</td>\n",
       "      <td>NaN</td>\n",
       "    </tr>\n",
       "    <tr>\n",
       "      <th>1308</th>\n",
       "      <td>3</td>\n",
       "      <td>0</td>\n",
       "      <td>Zimmerman, Mr. Leo</td>\n",
       "      <td>male</td>\n",
       "      <td>29.0000</td>\n",
       "      <td>0</td>\n",
       "      <td>0</td>\n",
       "      <td>315082</td>\n",
       "      <td>7.8750</td>\n",
       "      <td>NaN</td>\n",
       "      <td>S</td>\n",
       "      <td>NaN</td>\n",
       "      <td>NaN</td>\n",
       "      <td>NaN</td>\n",
       "    </tr>\n",
       "  </tbody>\n",
       "</table>\n",
       "<p>1309 rows × 14 columns</p>\n",
       "</div>"
      ],
      "text/plain": [
       "      pclass  survived                                             name  \\\n",
       "0          1         1                    Allen, Miss. Elisabeth Walton   \n",
       "1          1         1                   Allison, Master. Hudson Trevor   \n",
       "2          1         0                     Allison, Miss. Helen Loraine   \n",
       "3          1         0             Allison, Mr. Hudson Joshua Creighton   \n",
       "4          1         0  Allison, Mrs. Hudson J C (Bessie Waldo Daniels)   \n",
       "...      ...       ...                                              ...   \n",
       "1304       3         0                             Zabour, Miss. Hileni   \n",
       "1305       3         0                            Zabour, Miss. Thamine   \n",
       "1306       3         0                        Zakarian, Mr. Mapriededer   \n",
       "1307       3         0                              Zakarian, Mr. Ortin   \n",
       "1308       3         0                               Zimmerman, Mr. Leo   \n",
       "\n",
       "         sex      age  sibsp  parch  ticket      fare    cabin embarked boat  \\\n",
       "0     female  29.0000      0      0   24160  211.3375       B5        S    2   \n",
       "1       male   0.9167      1      2  113781  151.5500  C22 C26        S   11   \n",
       "2     female   2.0000      1      2  113781  151.5500  C22 C26        S  NaN   \n",
       "3       male  30.0000      1      2  113781  151.5500  C22 C26        S  NaN   \n",
       "4     female  25.0000      1      2  113781  151.5500  C22 C26        S  NaN   \n",
       "...      ...      ...    ...    ...     ...       ...      ...      ...  ...   \n",
       "1304  female  14.5000      1      0    2665   14.4542      NaN        C  NaN   \n",
       "1305  female      NaN      1      0    2665   14.4542      NaN        C  NaN   \n",
       "1306    male  26.5000      0      0    2656    7.2250      NaN        C  NaN   \n",
       "1307    male  27.0000      0      0    2670    7.2250      NaN        C  NaN   \n",
       "1308    male  29.0000      0      0  315082    7.8750      NaN        S  NaN   \n",
       "\n",
       "       body                        home.dest  \n",
       "0       NaN                     St Louis, MO  \n",
       "1       NaN  Montreal, PQ / Chesterville, ON  \n",
       "2       NaN  Montreal, PQ / Chesterville, ON  \n",
       "3     135.0  Montreal, PQ / Chesterville, ON  \n",
       "4       NaN  Montreal, PQ / Chesterville, ON  \n",
       "...     ...                              ...  \n",
       "1304  328.0                              NaN  \n",
       "1305    NaN                              NaN  \n",
       "1306  304.0                              NaN  \n",
       "1307    NaN                              NaN  \n",
       "1308    NaN                              NaN  \n",
       "\n",
       "[1309 rows x 14 columns]"
      ]
     },
     "execution_count": 11,
     "metadata": {},
     "output_type": "execute_result"
    }
   ],
   "source": [
    "df_titanic = pd.read_csv(\"titanic_completa_oficial.csv\", na_values = \"?\")\n",
    "\n",
    "df_titanic"
   ]
  },
  {
   "cell_type": "code",
   "execution_count": 12,
   "id": "0877dec2",
   "metadata": {},
   "outputs": [
    {
     "name": "stdout",
     "output_type": "stream",
     "text": [
      "<class 'pandas.core.frame.DataFrame'>\n",
      "RangeIndex: 1309 entries, 0 to 1308\n",
      "Data columns (total 14 columns):\n",
      " #   Column     Non-Null Count  Dtype  \n",
      "---  ------     --------------  -----  \n",
      " 0   pclass     1309 non-null   int64  \n",
      " 1   survived   1309 non-null   int64  \n",
      " 2   name       1309 non-null   object \n",
      " 3   sex        1309 non-null   object \n",
      " 4   age        1046 non-null   float64\n",
      " 5   sibsp      1309 non-null   int64  \n",
      " 6   parch      1309 non-null   int64  \n",
      " 7   ticket     1309 non-null   object \n",
      " 8   fare       1308 non-null   float64\n",
      " 9   cabin      295 non-null    object \n",
      " 10  embarked   1307 non-null   object \n",
      " 11  boat       486 non-null    object \n",
      " 12  body       121 non-null    float64\n",
      " 13  home.dest  745 non-null    object \n",
      "dtypes: float64(3), int64(4), object(7)\n",
      "memory usage: 143.3+ KB\n"
     ]
    }
   ],
   "source": [
    "df_titanic.info()"
   ]
  },
  {
   "cell_type": "code",
   "execution_count": 13,
   "id": "7f139906",
   "metadata": {},
   "outputs": [
    {
     "data": {
      "text/html": [
       "<div>\n",
       "<style scoped>\n",
       "    .dataframe tbody tr th:only-of-type {\n",
       "        vertical-align: middle;\n",
       "    }\n",
       "\n",
       "    .dataframe tbody tr th {\n",
       "        vertical-align: top;\n",
       "    }\n",
       "\n",
       "    .dataframe thead th {\n",
       "        text-align: right;\n",
       "    }\n",
       "</style>\n",
       "<table border=\"1\" class=\"dataframe\">\n",
       "  <thead>\n",
       "    <tr style=\"text-align: right;\">\n",
       "      <th></th>\n",
       "      <th>pclass</th>\n",
       "      <th>survived</th>\n",
       "      <th>age</th>\n",
       "      <th>sibsp</th>\n",
       "      <th>parch</th>\n",
       "      <th>fare</th>\n",
       "      <th>body</th>\n",
       "    </tr>\n",
       "  </thead>\n",
       "  <tbody>\n",
       "    <tr>\n",
       "      <th>count</th>\n",
       "      <td>1309.000000</td>\n",
       "      <td>1309.000000</td>\n",
       "      <td>1046.000000</td>\n",
       "      <td>1309.000000</td>\n",
       "      <td>1309.000000</td>\n",
       "      <td>1308.000000</td>\n",
       "      <td>121.000000</td>\n",
       "    </tr>\n",
       "    <tr>\n",
       "      <th>mean</th>\n",
       "      <td>2.294882</td>\n",
       "      <td>0.381971</td>\n",
       "      <td>29.881135</td>\n",
       "      <td>0.498854</td>\n",
       "      <td>0.385027</td>\n",
       "      <td>33.295479</td>\n",
       "      <td>160.809917</td>\n",
       "    </tr>\n",
       "    <tr>\n",
       "      <th>std</th>\n",
       "      <td>0.837836</td>\n",
       "      <td>0.486055</td>\n",
       "      <td>14.413500</td>\n",
       "      <td>1.041658</td>\n",
       "      <td>0.865560</td>\n",
       "      <td>51.758668</td>\n",
       "      <td>97.696922</td>\n",
       "    </tr>\n",
       "    <tr>\n",
       "      <th>min</th>\n",
       "      <td>1.000000</td>\n",
       "      <td>0.000000</td>\n",
       "      <td>0.166700</td>\n",
       "      <td>0.000000</td>\n",
       "      <td>0.000000</td>\n",
       "      <td>0.000000</td>\n",
       "      <td>1.000000</td>\n",
       "    </tr>\n",
       "    <tr>\n",
       "      <th>25%</th>\n",
       "      <td>2.000000</td>\n",
       "      <td>0.000000</td>\n",
       "      <td>21.000000</td>\n",
       "      <td>0.000000</td>\n",
       "      <td>0.000000</td>\n",
       "      <td>7.895800</td>\n",
       "      <td>72.000000</td>\n",
       "    </tr>\n",
       "    <tr>\n",
       "      <th>50%</th>\n",
       "      <td>3.000000</td>\n",
       "      <td>0.000000</td>\n",
       "      <td>28.000000</td>\n",
       "      <td>0.000000</td>\n",
       "      <td>0.000000</td>\n",
       "      <td>14.454200</td>\n",
       "      <td>155.000000</td>\n",
       "    </tr>\n",
       "    <tr>\n",
       "      <th>75%</th>\n",
       "      <td>3.000000</td>\n",
       "      <td>1.000000</td>\n",
       "      <td>39.000000</td>\n",
       "      <td>1.000000</td>\n",
       "      <td>0.000000</td>\n",
       "      <td>31.275000</td>\n",
       "      <td>256.000000</td>\n",
       "    </tr>\n",
       "    <tr>\n",
       "      <th>max</th>\n",
       "      <td>3.000000</td>\n",
       "      <td>1.000000</td>\n",
       "      <td>80.000000</td>\n",
       "      <td>8.000000</td>\n",
       "      <td>9.000000</td>\n",
       "      <td>512.329200</td>\n",
       "      <td>328.000000</td>\n",
       "    </tr>\n",
       "  </tbody>\n",
       "</table>\n",
       "</div>"
      ],
      "text/plain": [
       "            pclass     survived          age        sibsp        parch  \\\n",
       "count  1309.000000  1309.000000  1046.000000  1309.000000  1309.000000   \n",
       "mean      2.294882     0.381971    29.881135     0.498854     0.385027   \n",
       "std       0.837836     0.486055    14.413500     1.041658     0.865560   \n",
       "min       1.000000     0.000000     0.166700     0.000000     0.000000   \n",
       "25%       2.000000     0.000000    21.000000     0.000000     0.000000   \n",
       "50%       3.000000     0.000000    28.000000     0.000000     0.000000   \n",
       "75%       3.000000     1.000000    39.000000     1.000000     0.000000   \n",
       "max       3.000000     1.000000    80.000000     8.000000     9.000000   \n",
       "\n",
       "              fare        body  \n",
       "count  1308.000000  121.000000  \n",
       "mean     33.295479  160.809917  \n",
       "std      51.758668   97.696922  \n",
       "min       0.000000    1.000000  \n",
       "25%       7.895800   72.000000  \n",
       "50%      14.454200  155.000000  \n",
       "75%      31.275000  256.000000  \n",
       "max     512.329200  328.000000  "
      ]
     },
     "execution_count": 13,
     "metadata": {},
     "output_type": "execute_result"
    }
   ],
   "source": [
    "df_titanic.describe()"
   ]
  },
  {
   "cell_type": "code",
   "execution_count": 14,
   "id": "266f5065",
   "metadata": {},
   "outputs": [
    {
     "data": {
      "text/plain": [
       "array([1, 2, 3])"
      ]
     },
     "execution_count": 14,
     "metadata": {},
     "output_type": "execute_result"
    }
   ],
   "source": [
    "df_titanic[\"pclass\"].unique()"
   ]
  },
  {
   "cell_type": "code",
   "execution_count": 15,
   "id": "692c9509",
   "metadata": {},
   "outputs": [
    {
     "data": {
      "text/plain": [
       "array([1, 0])"
      ]
     },
     "execution_count": 15,
     "metadata": {},
     "output_type": "execute_result"
    }
   ],
   "source": [
    "df_titanic[\"survived\"].unique()"
   ]
  },
  {
   "cell_type": "code",
   "execution_count": 16,
   "id": "a71c6a95",
   "metadata": {},
   "outputs": [
    {
     "data": {
      "text/plain": [
       "array(['S', 'C', nan, 'Q'], dtype=object)"
      ]
     },
     "execution_count": 16,
     "metadata": {},
     "output_type": "execute_result"
    }
   ],
   "source": [
    "df_titanic[\"embarked\"].unique()"
   ]
  },
  {
   "cell_type": "code",
   "execution_count": 17,
   "id": "37920bbe",
   "metadata": {},
   "outputs": [
    {
     "data": {
      "text/plain": [
       "array([29.    ,  0.9167,  2.    , 30.    , 25.    , 48.    , 63.    ,\n",
       "       39.    , 53.    , 71.    , 47.    , 18.    , 24.    , 26.    ,\n",
       "       80.    ,     nan, 50.    , 32.    , 36.    , 37.    , 42.    ,\n",
       "       19.    , 35.    , 28.    , 45.    , 40.    , 58.    , 22.    ,\n",
       "       41.    , 44.    , 59.    , 60.    , 33.    , 17.    , 11.    ,\n",
       "       14.    , 49.    , 76.    , 46.    , 27.    , 64.    , 55.    ,\n",
       "       70.    , 38.    , 51.    , 31.    ,  4.    , 54.    , 23.    ,\n",
       "       43.    , 52.    , 16.    , 32.5   , 21.    , 15.    , 65.    ,\n",
       "       28.5   , 45.5   , 56.    , 13.    , 61.    , 34.    ,  6.    ,\n",
       "       57.    , 62.    , 67.    ,  1.    , 12.    , 20.    ,  0.8333,\n",
       "        8.    ,  0.6667,  7.    ,  3.    , 36.5   , 18.5   ,  5.    ,\n",
       "       66.    ,  9.    ,  0.75  , 70.5   , 22.5   ,  0.3333,  0.1667,\n",
       "       40.5   , 10.    , 23.5   , 34.5   , 20.5   , 30.5   , 55.5   ,\n",
       "       38.5   , 14.5   , 24.5   , 60.5   , 74.    ,  0.4167, 11.5   ,\n",
       "       26.5   ])"
      ]
     },
     "execution_count": 17,
     "metadata": {},
     "output_type": "execute_result"
    }
   ],
   "source": [
    "df_titanic[\"age\"].unique()"
   ]
  },
  {
   "cell_type": "code",
   "execution_count": 18,
   "id": "c6f743fa",
   "metadata": {},
   "outputs": [
    {
     "name": "stdout",
     "output_type": "stream",
     "text": [
      "5847 4153\n"
     ]
    }
   ],
   "source": [
    "n = 10000\n",
    "cara = 5847\n",
    "coroa = n - cara\n",
    "\n",
    "print(cara, coroa)"
   ]
  },
  {
   "cell_type": "code",
   "execution_count": 19,
   "id": "c95540e3",
   "metadata": {},
   "outputs": [
    {
     "name": "stdout",
     "output_type": "stream",
     "text": [
      "0.5847 0.4153\n"
     ]
    }
   ],
   "source": [
    "p_cara = cara/n\n",
    "p_coroa = coroa/n\n",
    "\n",
    "print(p_cara, p_coroa)"
   ]
  },
  {
   "cell_type": "code",
   "execution_count": 20,
   "id": "3d790916",
   "metadata": {},
   "outputs": [
    {
     "data": {
      "text/plain": [
       "1    0.50024\n",
       "0    0.49976\n",
       "Name: proportion, dtype: float64"
      ]
     },
     "execution_count": 20,
     "metadata": {},
     "output_type": "execute_result"
    }
   ],
   "source": [
    "pd.Series(np.random.randint(0,2,100000)).value_counts(normalize= True)"
   ]
  },
  {
   "cell_type": "code",
   "execution_count": 21,
   "id": "e3c0fa5b",
   "metadata": {},
   "outputs": [
    {
     "data": {
      "text/plain": [
       "pclass\n",
       "3    0.541635\n",
       "1    0.246753\n",
       "2    0.211612\n",
       "Name: proportion, dtype: float64"
      ]
     },
     "execution_count": 21,
     "metadata": {},
     "output_type": "execute_result"
    }
   ],
   "source": [
    "df_titanic[\"pclass\"].value_counts(normalize = True)"
   ]
  },
  {
   "cell_type": "code",
   "execution_count": 22,
   "id": "43a9f428",
   "metadata": {},
   "outputs": [
    {
     "data": {
      "text/plain": [
       "survived\n",
       "0    0.618029\n",
       "1    0.381971\n",
       "Name: proportion, dtype: float64"
      ]
     },
     "execution_count": 22,
     "metadata": {},
     "output_type": "execute_result"
    }
   ],
   "source": [
    "df_titanic[\"survived\"].value_counts(normalize = True)"
   ]
  },
  {
   "cell_type": "code",
   "execution_count": 23,
   "id": "dec58106",
   "metadata": {},
   "outputs": [
    {
     "data": {
      "text/plain": [
       "0.3819709702062643"
      ]
     },
     "execution_count": 23,
     "metadata": {},
     "output_type": "execute_result"
    }
   ],
   "source": [
    "df_titanic[\"survived\"].mean()"
   ]
  },
  {
   "cell_type": "code",
   "execution_count": 24,
   "id": "276db689",
   "metadata": {},
   "outputs": [
    {
     "data": {
      "text/html": [
       "<div>\n",
       "<style scoped>\n",
       "    .dataframe tbody tr th:only-of-type {\n",
       "        vertical-align: middle;\n",
       "    }\n",
       "\n",
       "    .dataframe tbody tr th {\n",
       "        vertical-align: top;\n",
       "    }\n",
       "\n",
       "    .dataframe thead th {\n",
       "        text-align: right;\n",
       "    }\n",
       "</style>\n",
       "<table border=\"1\" class=\"dataframe\">\n",
       "  <thead>\n",
       "    <tr style=\"text-align: right;\">\n",
       "      <th></th>\n",
       "      <th>pclass</th>\n",
       "      <th>survived</th>\n",
       "      <th>name</th>\n",
       "      <th>sex</th>\n",
       "      <th>age</th>\n",
       "      <th>sibsp</th>\n",
       "      <th>parch</th>\n",
       "      <th>ticket</th>\n",
       "      <th>fare</th>\n",
       "      <th>cabin</th>\n",
       "      <th>embarked</th>\n",
       "      <th>boat</th>\n",
       "      <th>body</th>\n",
       "      <th>home.dest</th>\n",
       "    </tr>\n",
       "  </thead>\n",
       "  <tbody>\n",
       "    <tr>\n",
       "      <th>0</th>\n",
       "      <td>1</td>\n",
       "      <td>1</td>\n",
       "      <td>Allen, Miss. Elisabeth Walton</td>\n",
       "      <td>female</td>\n",
       "      <td>29.0000</td>\n",
       "      <td>0</td>\n",
       "      <td>0</td>\n",
       "      <td>24160</td>\n",
       "      <td>211.3375</td>\n",
       "      <td>B5</td>\n",
       "      <td>S</td>\n",
       "      <td>2</td>\n",
       "      <td>NaN</td>\n",
       "      <td>St Louis, MO</td>\n",
       "    </tr>\n",
       "    <tr>\n",
       "      <th>1</th>\n",
       "      <td>1</td>\n",
       "      <td>1</td>\n",
       "      <td>Allison, Master. Hudson Trevor</td>\n",
       "      <td>male</td>\n",
       "      <td>0.9167</td>\n",
       "      <td>1</td>\n",
       "      <td>2</td>\n",
       "      <td>113781</td>\n",
       "      <td>151.5500</td>\n",
       "      <td>C22 C26</td>\n",
       "      <td>S</td>\n",
       "      <td>11</td>\n",
       "      <td>NaN</td>\n",
       "      <td>Montreal, PQ / Chesterville, ON</td>\n",
       "    </tr>\n",
       "    <tr>\n",
       "      <th>2</th>\n",
       "      <td>1</td>\n",
       "      <td>0</td>\n",
       "      <td>Allison, Miss. Helen Loraine</td>\n",
       "      <td>female</td>\n",
       "      <td>2.0000</td>\n",
       "      <td>1</td>\n",
       "      <td>2</td>\n",
       "      <td>113781</td>\n",
       "      <td>151.5500</td>\n",
       "      <td>C22 C26</td>\n",
       "      <td>S</td>\n",
       "      <td>NaN</td>\n",
       "      <td>NaN</td>\n",
       "      <td>Montreal, PQ / Chesterville, ON</td>\n",
       "    </tr>\n",
       "    <tr>\n",
       "      <th>3</th>\n",
       "      <td>1</td>\n",
       "      <td>0</td>\n",
       "      <td>Allison, Mr. Hudson Joshua Creighton</td>\n",
       "      <td>male</td>\n",
       "      <td>30.0000</td>\n",
       "      <td>1</td>\n",
       "      <td>2</td>\n",
       "      <td>113781</td>\n",
       "      <td>151.5500</td>\n",
       "      <td>C22 C26</td>\n",
       "      <td>S</td>\n",
       "      <td>NaN</td>\n",
       "      <td>135.0</td>\n",
       "      <td>Montreal, PQ / Chesterville, ON</td>\n",
       "    </tr>\n",
       "    <tr>\n",
       "      <th>4</th>\n",
       "      <td>1</td>\n",
       "      <td>0</td>\n",
       "      <td>Allison, Mrs. Hudson J C (Bessie Waldo Daniels)</td>\n",
       "      <td>female</td>\n",
       "      <td>25.0000</td>\n",
       "      <td>1</td>\n",
       "      <td>2</td>\n",
       "      <td>113781</td>\n",
       "      <td>151.5500</td>\n",
       "      <td>C22 C26</td>\n",
       "      <td>S</td>\n",
       "      <td>NaN</td>\n",
       "      <td>NaN</td>\n",
       "      <td>Montreal, PQ / Chesterville, ON</td>\n",
       "    </tr>\n",
       "    <tr>\n",
       "      <th>...</th>\n",
       "      <td>...</td>\n",
       "      <td>...</td>\n",
       "      <td>...</td>\n",
       "      <td>...</td>\n",
       "      <td>...</td>\n",
       "      <td>...</td>\n",
       "      <td>...</td>\n",
       "      <td>...</td>\n",
       "      <td>...</td>\n",
       "      <td>...</td>\n",
       "      <td>...</td>\n",
       "      <td>...</td>\n",
       "      <td>...</td>\n",
       "      <td>...</td>\n",
       "    </tr>\n",
       "    <tr>\n",
       "      <th>318</th>\n",
       "      <td>1</td>\n",
       "      <td>0</td>\n",
       "      <td>Williams-Lambert, Mr. Fletcher Fellows</td>\n",
       "      <td>male</td>\n",
       "      <td>NaN</td>\n",
       "      <td>0</td>\n",
       "      <td>0</td>\n",
       "      <td>113510</td>\n",
       "      <td>35.0000</td>\n",
       "      <td>C128</td>\n",
       "      <td>S</td>\n",
       "      <td>NaN</td>\n",
       "      <td>NaN</td>\n",
       "      <td>London, England</td>\n",
       "    </tr>\n",
       "    <tr>\n",
       "      <th>319</th>\n",
       "      <td>1</td>\n",
       "      <td>1</td>\n",
       "      <td>Wilson, Miss. Helen Alice</td>\n",
       "      <td>female</td>\n",
       "      <td>31.0000</td>\n",
       "      <td>0</td>\n",
       "      <td>0</td>\n",
       "      <td>16966</td>\n",
       "      <td>134.5000</td>\n",
       "      <td>E39 E41</td>\n",
       "      <td>C</td>\n",
       "      <td>3</td>\n",
       "      <td>NaN</td>\n",
       "      <td>NaN</td>\n",
       "    </tr>\n",
       "    <tr>\n",
       "      <th>320</th>\n",
       "      <td>1</td>\n",
       "      <td>1</td>\n",
       "      <td>Woolner, Mr. Hugh</td>\n",
       "      <td>male</td>\n",
       "      <td>NaN</td>\n",
       "      <td>0</td>\n",
       "      <td>0</td>\n",
       "      <td>19947</td>\n",
       "      <td>35.5000</td>\n",
       "      <td>C52</td>\n",
       "      <td>S</td>\n",
       "      <td>D</td>\n",
       "      <td>NaN</td>\n",
       "      <td>London, England</td>\n",
       "    </tr>\n",
       "    <tr>\n",
       "      <th>321</th>\n",
       "      <td>1</td>\n",
       "      <td>0</td>\n",
       "      <td>Wright, Mr. George</td>\n",
       "      <td>male</td>\n",
       "      <td>62.0000</td>\n",
       "      <td>0</td>\n",
       "      <td>0</td>\n",
       "      <td>113807</td>\n",
       "      <td>26.5500</td>\n",
       "      <td>NaN</td>\n",
       "      <td>S</td>\n",
       "      <td>NaN</td>\n",
       "      <td>NaN</td>\n",
       "      <td>Halifax, NS</td>\n",
       "    </tr>\n",
       "    <tr>\n",
       "      <th>322</th>\n",
       "      <td>1</td>\n",
       "      <td>1</td>\n",
       "      <td>Young, Miss. Marie Grice</td>\n",
       "      <td>female</td>\n",
       "      <td>36.0000</td>\n",
       "      <td>0</td>\n",
       "      <td>0</td>\n",
       "      <td>PC 17760</td>\n",
       "      <td>135.6333</td>\n",
       "      <td>C32</td>\n",
       "      <td>C</td>\n",
       "      <td>8</td>\n",
       "      <td>NaN</td>\n",
       "      <td>New York, NY / Washington, DC</td>\n",
       "    </tr>\n",
       "  </tbody>\n",
       "</table>\n",
       "<p>323 rows × 14 columns</p>\n",
       "</div>"
      ],
      "text/plain": [
       "     pclass  survived                                             name  \\\n",
       "0         1         1                    Allen, Miss. Elisabeth Walton   \n",
       "1         1         1                   Allison, Master. Hudson Trevor   \n",
       "2         1         0                     Allison, Miss. Helen Loraine   \n",
       "3         1         0             Allison, Mr. Hudson Joshua Creighton   \n",
       "4         1         0  Allison, Mrs. Hudson J C (Bessie Waldo Daniels)   \n",
       "..      ...       ...                                              ...   \n",
       "318       1         0           Williams-Lambert, Mr. Fletcher Fellows   \n",
       "319       1         1                        Wilson, Miss. Helen Alice   \n",
       "320       1         1                                Woolner, Mr. Hugh   \n",
       "321       1         0                               Wright, Mr. George   \n",
       "322       1         1                         Young, Miss. Marie Grice   \n",
       "\n",
       "        sex      age  sibsp  parch    ticket      fare    cabin embarked boat  \\\n",
       "0    female  29.0000      0      0     24160  211.3375       B5        S    2   \n",
       "1      male   0.9167      1      2    113781  151.5500  C22 C26        S   11   \n",
       "2    female   2.0000      1      2    113781  151.5500  C22 C26        S  NaN   \n",
       "3      male  30.0000      1      2    113781  151.5500  C22 C26        S  NaN   \n",
       "4    female  25.0000      1      2    113781  151.5500  C22 C26        S  NaN   \n",
       "..      ...      ...    ...    ...       ...       ...      ...      ...  ...   \n",
       "318    male      NaN      0      0    113510   35.0000     C128        S  NaN   \n",
       "319  female  31.0000      0      0     16966  134.5000  E39 E41        C    3   \n",
       "320    male      NaN      0      0     19947   35.5000      C52        S    D   \n",
       "321    male  62.0000      0      0    113807   26.5500      NaN        S  NaN   \n",
       "322  female  36.0000      0      0  PC 17760  135.6333      C32        C    8   \n",
       "\n",
       "      body                        home.dest  \n",
       "0      NaN                     St Louis, MO  \n",
       "1      NaN  Montreal, PQ / Chesterville, ON  \n",
       "2      NaN  Montreal, PQ / Chesterville, ON  \n",
       "3    135.0  Montreal, PQ / Chesterville, ON  \n",
       "4      NaN  Montreal, PQ / Chesterville, ON  \n",
       "..     ...                              ...  \n",
       "318    NaN                  London, England  \n",
       "319    NaN                              NaN  \n",
       "320    NaN                  London, England  \n",
       "321    NaN                      Halifax, NS  \n",
       "322    NaN    New York, NY / Washington, DC  \n",
       "\n",
       "[323 rows x 14 columns]"
      ]
     },
     "execution_count": 24,
     "metadata": {},
     "output_type": "execute_result"
    }
   ],
   "source": [
    "df_titanic.query(\"pclass == 1\")"
   ]
  },
  {
   "cell_type": "code",
   "execution_count": 25,
   "id": "6713355d",
   "metadata": {},
   "outputs": [
    {
     "data": {
      "text/plain": [
       "survived\n",
       "1    0.619195\n",
       "0    0.380805\n",
       "Name: proportion, dtype: float64"
      ]
     },
     "execution_count": 25,
     "metadata": {},
     "output_type": "execute_result"
    }
   ],
   "source": [
    "df_titanic.query(\"pclass == 1\")[\"survived\"].value_counts(normalize=True)"
   ]
  },
  {
   "cell_type": "code",
   "execution_count": 26,
   "id": "a4028c49",
   "metadata": {},
   "outputs": [
    {
     "data": {
      "text/html": [
       "<div>\n",
       "<style scoped>\n",
       "    .dataframe tbody tr th:only-of-type {\n",
       "        vertical-align: middle;\n",
       "    }\n",
       "\n",
       "    .dataframe tbody tr th {\n",
       "        vertical-align: top;\n",
       "    }\n",
       "\n",
       "    .dataframe thead th {\n",
       "        text-align: right;\n",
       "    }\n",
       "</style>\n",
       "<table border=\"1\" class=\"dataframe\">\n",
       "  <thead>\n",
       "    <tr style=\"text-align: right;\">\n",
       "      <th></th>\n",
       "      <th>survived</th>\n",
       "    </tr>\n",
       "    <tr>\n",
       "      <th>pclass</th>\n",
       "      <th></th>\n",
       "    </tr>\n",
       "  </thead>\n",
       "  <tbody>\n",
       "    <tr>\n",
       "      <th>1</th>\n",
       "      <td>0.619195</td>\n",
       "    </tr>\n",
       "    <tr>\n",
       "      <th>2</th>\n",
       "      <td>0.429603</td>\n",
       "    </tr>\n",
       "    <tr>\n",
       "      <th>3</th>\n",
       "      <td>0.255289</td>\n",
       "    </tr>\n",
       "  </tbody>\n",
       "</table>\n",
       "</div>"
      ],
      "text/plain": [
       "        survived\n",
       "pclass          \n",
       "1       0.619195\n",
       "2       0.429603\n",
       "3       0.255289"
      ]
     },
     "execution_count": 26,
     "metadata": {},
     "output_type": "execute_result"
    }
   ],
   "source": [
    "df_titanic.groupby(\"pclass\")[[\"survived\"]].mean()"
   ]
  },
  {
   "cell_type": "code",
   "execution_count": 27,
   "id": "f65096f9",
   "metadata": {},
   "outputs": [
    {
     "data": {
      "text/plain": [
       "count    1046.000000\n",
       "mean       29.881135\n",
       "std        14.413500\n",
       "min         0.166700\n",
       "25%        21.000000\n",
       "50%        28.000000\n",
       "75%        39.000000\n",
       "max        80.000000\n",
       "Name: age, dtype: float64"
      ]
     },
     "execution_count": 27,
     "metadata": {},
     "output_type": "execute_result"
    }
   ],
   "source": [
    "df_titanic[\"age\"].describe()"
   ]
  },
  {
   "cell_type": "code",
   "execution_count": 28,
   "id": "2eb2f886",
   "metadata": {},
   "outputs": [
    {
     "data": {
      "text/plain": [
       "<Axes: xlabel='age', ylabel='Count'>"
      ]
     },
     "execution_count": 28,
     "metadata": {},
     "output_type": "execute_result"
    },
    {
     "data": {
      "image/png": "[encoded data removed]",
      "text/plain": [
       "<Figure size 640x480 with 1 Axes>"
      ]
     },
     "metadata": {},
     "output_type": "display_data"
    }
   ],
   "source": [
    "sns.histplot(data=df_titanic, x=\"age\")"
   ]
  },
  {
   "cell_type": "code",
   "execution_count": 29,
   "id": "c4bcec11",
   "metadata": {},
   "outputs": [
    {
     "data": {
      "text/plain": [
       "<Axes: xlabel='age', ylabel='Density'>"
      ]
     },
     "execution_count": 29,
     "metadata": {},
     "output_type": "execute_result"
    },
    {
     "data": {
      "image/png": "[encoded data removed]",
      "text/plain": [
       "<Figure size 640x480 with 1 Axes>"
      ]
     },
     "metadata": {},
     "output_type": "display_data"
    }
   ],
   "source": [
    "sns.kdeplot(data=df_titanic, x=\"age\")"
   ]
  },
  {
   "cell_type": "code",
   "execution_count": 30,
   "id": "d0a91029",
   "metadata": {},
   "outputs": [
    {
     "data": {
      "text/plain": [
       "<Axes: xlabel='age', ylabel='Count'>"
      ]
     },
     "execution_count": 30,
     "metadata": {},
     "output_type": "execute_result"
    },
    {
     "data": {
      "image/png": "[encoded data removed]",
      "text/plain": [
       "<Figure size 640x480 with 1 Axes>"
      ]
     },
     "metadata": {},
     "output_type": "display_data"
    }
   ],
   "source": [
    "sns.histplot(data=df_titanic, x=\"age\", kde=True)"
   ]
  },
  {
   "cell_type": "code",
   "execution_count": 31,
   "id": "e7ac5488",
   "metadata": {},
   "outputs": [],
   "source": [
    "import scipy"
   ]
  },
  {
   "cell_type": "code",
   "execution_count": 32,
   "id": "ab945d7c",
   "metadata": {},
   "outputs": [
    {
     "data": {
      "text/plain": [
       "array([1, 0, 0, 0, 0, 0, 1, 1, 1, 0, 1, 1, 1, 0, 0, 0, 1, 0, 0, 1, 1, 0,\n",
       "       0, 0, 0, 0, 1, 0, 1, 1, 1, 1, 1, 0, 0, 0, 0, 1, 0, 0, 0, 1, 1, 1,\n",
       "       0, 1, 0, 1, 0, 0, 0, 0, 1, 1, 1, 1, 1, 1, 1, 0, 0, 1, 0, 1, 1, 1,\n",
       "       0, 1, 1, 1, 1, 1, 0, 1, 0, 1, 1, 0, 0, 1, 1, 0, 1, 0, 0, 0, 0, 1,\n",
       "       0, 0, 1, 1, 0, 1, 0, 0, 1, 0, 0, 1])"
      ]
     },
     "execution_count": 32,
     "metadata": {},
     "output_type": "execute_result"
    }
   ],
   "source": [
    "resultado_ber = scipy.stats.bernoulli.rvs(p=0.5, size = 100)\n",
    "resultado_ber"
   ]
  },
  {
   "cell_type": "code",
   "execution_count": 33,
   "id": "822b7248",
   "metadata": {},
   "outputs": [
    {
     "data": {
      "text/plain": [
       "1    0.5\n",
       "0    0.5\n",
       "Name: proportion, dtype: float64"
      ]
     },
     "execution_count": 33,
     "metadata": {},
     "output_type": "execute_result"
    }
   ],
   "source": [
    "pd.Series(resultado_ber).value_counts(normalize=True)"
   ]
  },
  {
   "cell_type": "code",
   "execution_count": 34,
   "id": "20edfc37",
   "metadata": {},
   "outputs": [
    {
     "data": {
      "image/png": "[encoded data removed]",
      "text/plain": [
       "<Figure size 640x480 with 1 Axes>"
      ]
     },
     "metadata": {},
     "output_type": "display_data"
    }
   ],
   "source": [
    "sns.countplot(resultado_ber);"
   ]
  },
  {
   "cell_type": "code",
   "execution_count": 35,
   "id": "c219b5e1",
   "metadata": {},
   "outputs": [
    {
     "data": {
      "image/png": "[encoded data removed]",
      "text/plain": [
       "<Figure size 640x480 with 1 Axes>"
      ]
     },
     "metadata": {},
     "output_type": "display_data"
    }
   ],
   "source": [
    "sns.histplot(resultado_ber);"
   ]
  },
  {
   "cell_type": "code",
   "execution_count": 36,
   "id": "ced8ff0f",
   "metadata": {},
   "outputs": [
    {
     "data": {
      "image/png": "[encoded data removed]",
      "text/plain": [
       "<Figure size 640x480 with 1 Axes>"
      ]
     },
     "metadata": {},
     "output_type": "display_data"
    }
   ],
   "source": [
    "sns.histplot(resultado_ber, stat=\"probability\");"
   ]
  },
  {
   "cell_type": "code",
   "execution_count": 37,
   "id": "9696e429",
   "metadata": {},
   "outputs": [
    {
     "data": {
      "text/plain": [
       "0       1\n",
       "1       1\n",
       "2       0\n",
       "3       0\n",
       "4       0\n",
       "       ..\n",
       "1304    0\n",
       "1305    0\n",
       "1306    0\n",
       "1307    0\n",
       "1308    0\n",
       "Name: survived, Length: 1309, dtype: int64"
      ]
     },
     "execution_count": 37,
     "metadata": {},
     "output_type": "execute_result"
    }
   ],
   "source": [
    "df_titanic[\"survived\"]"
   ]
  },
  {
   "cell_type": "code",
   "execution_count": 38,
   "id": "2574497b",
   "metadata": {},
   "outputs": [
    {
     "data": {
      "text/plain": [
       "<Axes: xlabel='survived', ylabel='count'>"
      ]
     },
     "execution_count": 38,
     "metadata": {},
     "output_type": "execute_result"
    },
    {
     "data": {
      "image/png": "[encoded data removed]",
      "text/plain": [
       "<Figure size 640x480 with 1 Axes>"
      ]
     },
     "metadata": {},
     "output_type": "display_data"
    }
   ],
   "source": [
    "sns.countplot(data=df_titanic, x=\"survived\")"
   ]
  },
  {
   "cell_type": "code",
   "execution_count": 39,
   "id": "16049db7",
   "metadata": {},
   "outputs": [
    {
     "data": {
      "text/plain": [
       "0.3819709702062643"
      ]
     },
     "execution_count": 39,
     "metadata": {},
     "output_type": "execute_result"
    }
   ],
   "source": [
    "df_titanic[\"survived\"].mean()"
   ]
  },
  {
   "cell_type": "code",
   "execution_count": 40,
   "id": "d95b899c",
   "metadata": {},
   "outputs": [
    {
     "data": {
      "text/plain": [
       "survived\n",
       "0    809\n",
       "1    500\n",
       "Name: count, dtype: int64"
      ]
     },
     "execution_count": 40,
     "metadata": {},
     "output_type": "execute_result"
    }
   ],
   "source": [
    "df_titanic[\"survived\"].value_counts()"
   ]
  },
  {
   "cell_type": "code",
   "execution_count": 41,
   "id": "f87d0b0d",
   "metadata": {},
   "outputs": [
    {
     "data": {
      "text/plain": [
       "survived\n",
       "0    0.618029\n",
       "1    0.381971\n",
       "Name: proportion, dtype: float64"
      ]
     },
     "execution_count": 41,
     "metadata": {},
     "output_type": "execute_result"
    }
   ],
   "source": [
    "df_titanic[\"survived\"].value_counts(normalize=True)"
   ]
  },
  {
   "cell_type": "code",
   "execution_count": 42,
   "id": "dba2afca",
   "metadata": {},
   "outputs": [],
   "source": [
    "#um restaurante recebe 20 pedidos por hora. QUal a chance de que, em determinada hora escolhida ao acaso o \n",
    "#restaurante receba 15 pedidos?\n",
    "\n",
    "#Qual o numero médio de ocorrências por hora? (lambda)\n",
    "l = 20"
   ]
  },
  {
   "cell_type": "code",
   "execution_count": 43,
   "id": "066d56ba",
   "metadata": {},
   "outputs": [],
   "source": [
    "#QUal o número de ocorrências que queremos obter no periodo (K)?\n",
    "k = 15"
   ]
  },
  {
   "cell_type": "code",
   "execution_count": 44,
   "id": "f1c788ce",
   "metadata": {},
   "outputs": [
    {
     "data": {
      "text/plain": [
       "'5.16%'"
      ]
     },
     "execution_count": 44,
     "metadata": {},
     "output_type": "execute_result"
    }
   ],
   "source": [
    "import math\n",
    "p_15 = (np.exp(-l)*(l**k))/math.factorial(k)\n",
    "\n",
    "f\"{p_15:.2%}\""
   ]
  },
  {
   "cell_type": "code",
   "execution_count": 45,
   "id": "5f5f8a9f",
   "metadata": {
    "scrolled": true
   },
   "outputs": [
    {
     "data": {
      "text/plain": [
       "'5.16%'"
      ]
     },
     "execution_count": 45,
     "metadata": {},
     "output_type": "execute_result"
    }
   ],
   "source": [
    "p_15_s = scipy.stats.poisson.pmf(k=k, mu=l)\n",
    "f\"{p_15_s:.2%}\""
   ]
  },
  {
   "cell_type": "code",
   "execution_count": 46,
   "id": "1e12f1cc",
   "metadata": {},
   "outputs": [],
   "source": [
    "experimento = {\n",
    "    \"numero de ligações\": [],\n",
    "    \"probabilidade\": []\n",
    "}"
   ]
  },
  {
   "cell_type": "code",
   "execution_count": 47,
   "id": "aaae6144",
   "metadata": {},
   "outputs": [],
   "source": [
    "k_list = range(45)\n",
    "\n",
    "for k in k_list:\n",
    "    p = scipy.stats.poisson.pmf(k=k, mu=l)\n",
    "    \n",
    "    experimento[\"numero de ligações\"].append(k)\n",
    "    experimento['probabilidade'].append(p)"
   ]
  },
  {
   "cell_type": "code",
   "execution_count": 48,
   "id": "ae993e42",
   "metadata": {},
   "outputs": [
    {
     "data": {
      "text/plain": [
       "{'numero de ligações': [0,\n",
       "  1,\n",
       "  2,\n",
       "  3,\n",
       "  4,\n",
       "  5,\n",
       "  6,\n",
       "  7,\n",
       "  8,\n",
       "  9,\n",
       "  10,\n",
       "  11,\n",
       "  12,\n",
       "  13,\n",
       "  14,\n",
       "  15,\n",
       "  16,\n",
       "  17,\n",
       "  18,\n",
       "  19,\n",
       "  20,\n",
       "  21,\n",
       "  22,\n",
       "  23,\n",
       "  24,\n",
       "  25,\n",
       "  26,\n",
       "  27,\n",
       "  28,\n",
       "  29,\n",
       "  30,\n",
       "  31,\n",
       "  32,\n",
       "  33,\n",
       "  34,\n",
       "  35,\n",
       "  36,\n",
       "  37,\n",
       "  38,\n",
       "  39,\n",
       "  40,\n",
       "  41,\n",
       "  42,\n",
       "  43,\n",
       "  44],\n",
       " 'probabilidade': [2.061153622438558e-09,\n",
       "  4.122307244877113e-08,\n",
       "  4.122307244877118e-07,\n",
       "  2.7482048299180785e-06,\n",
       "  1.3741024149590382e-05,\n",
       "  5.496409659836144e-05,\n",
       "  0.00018321365532787177,\n",
       "  0.0005234675866510618,\n",
       "  0.0013086689666276534,\n",
       "  0.002908153259172565,\n",
       "  0.00581630651834512,\n",
       "  0.01057510276062752,\n",
       "  0.017625171267712562,\n",
       "  0.02711564810417317,\n",
       "  0.03873664014881865,\n",
       "  0.05164885353175814,\n",
       "  0.06456106691469761,\n",
       "  0.07595419637023251,\n",
       "  0.08439355152248075,\n",
       "  0.0888353173920848,\n",
       "  0.0888353173920848,\n",
       "  0.08460506418293791,\n",
       "  0.07691369471176195,\n",
       "  0.06688147366240117,\n",
       "  0.05573456138533489,\n",
       "  0.04458764910826764,\n",
       "  0.03429819162174451,\n",
       "  0.025406067867958883,\n",
       "  0.01814719133425623,\n",
       "  0.012515304368452648,\n",
       "  0.008343536245635134,\n",
       "  0.005382926610087127,\n",
       "  0.003364329131304493,\n",
       "  0.002038987352305724,\n",
       "  0.0011994043248857392,\n",
       "  0.0006853738999347143,\n",
       "  0.0003807632777415,\n",
       "  0.0002058179879683853,\n",
       "  0.00010832525682546243,\n",
       "  5.555141375664831e-05,\n",
       "  2.777570687832371e-05,\n",
       "  1.3549125306499542e-05,\n",
       "  6.451964431666435e-06,\n",
       "  3.0009136891470936e-06,\n",
       "  1.3640516768850923e-06]}"
      ]
     },
     "execution_count": 48,
     "metadata": {},
     "output_type": "execute_result"
    }
   ],
   "source": [
    "experimento"
   ]
  },
  {
   "cell_type": "code",
   "execution_count": 49,
   "id": "a9a8f703",
   "metadata": {},
   "outputs": [
    {
     "data": {
      "text/html": [
       "<div>\n",
       "<style scoped>\n",
       "    .dataframe tbody tr th:only-of-type {\n",
       "        vertical-align: middle;\n",
       "    }\n",
       "\n",
       "    .dataframe tbody tr th {\n",
       "        vertical-align: top;\n",
       "    }\n",
       "\n",
       "    .dataframe thead th {\n",
       "        text-align: right;\n",
       "    }\n",
       "</style>\n",
       "<table border=\"1\" class=\"dataframe\">\n",
       "  <thead>\n",
       "    <tr style=\"text-align: right;\">\n",
       "      <th></th>\n",
       "      <th>numero de ligações</th>\n",
       "      <th>probabilidade</th>\n",
       "    </tr>\n",
       "  </thead>\n",
       "  <tbody>\n",
       "    <tr>\n",
       "      <th>0</th>\n",
       "      <td>0</td>\n",
       "      <td>2.061154e-09</td>\n",
       "    </tr>\n",
       "    <tr>\n",
       "      <th>1</th>\n",
       "      <td>1</td>\n",
       "      <td>4.122307e-08</td>\n",
       "    </tr>\n",
       "    <tr>\n",
       "      <th>2</th>\n",
       "      <td>2</td>\n",
       "      <td>4.122307e-07</td>\n",
       "    </tr>\n",
       "    <tr>\n",
       "      <th>3</th>\n",
       "      <td>3</td>\n",
       "      <td>2.748205e-06</td>\n",
       "    </tr>\n",
       "    <tr>\n",
       "      <th>4</th>\n",
       "      <td>4</td>\n",
       "      <td>1.374102e-05</td>\n",
       "    </tr>\n",
       "    <tr>\n",
       "      <th>5</th>\n",
       "      <td>5</td>\n",
       "      <td>5.496410e-05</td>\n",
       "    </tr>\n",
       "    <tr>\n",
       "      <th>6</th>\n",
       "      <td>6</td>\n",
       "      <td>1.832137e-04</td>\n",
       "    </tr>\n",
       "    <tr>\n",
       "      <th>7</th>\n",
       "      <td>7</td>\n",
       "      <td>5.234676e-04</td>\n",
       "    </tr>\n",
       "    <tr>\n",
       "      <th>8</th>\n",
       "      <td>8</td>\n",
       "      <td>1.308669e-03</td>\n",
       "    </tr>\n",
       "    <tr>\n",
       "      <th>9</th>\n",
       "      <td>9</td>\n",
       "      <td>2.908153e-03</td>\n",
       "    </tr>\n",
       "    <tr>\n",
       "      <th>10</th>\n",
       "      <td>10</td>\n",
       "      <td>5.816307e-03</td>\n",
       "    </tr>\n",
       "    <tr>\n",
       "      <th>11</th>\n",
       "      <td>11</td>\n",
       "      <td>1.057510e-02</td>\n",
       "    </tr>\n",
       "    <tr>\n",
       "      <th>12</th>\n",
       "      <td>12</td>\n",
       "      <td>1.762517e-02</td>\n",
       "    </tr>\n",
       "    <tr>\n",
       "      <th>13</th>\n",
       "      <td>13</td>\n",
       "      <td>2.711565e-02</td>\n",
       "    </tr>\n",
       "    <tr>\n",
       "      <th>14</th>\n",
       "      <td>14</td>\n",
       "      <td>3.873664e-02</td>\n",
       "    </tr>\n",
       "    <tr>\n",
       "      <th>15</th>\n",
       "      <td>15</td>\n",
       "      <td>5.164885e-02</td>\n",
       "    </tr>\n",
       "    <tr>\n",
       "      <th>16</th>\n",
       "      <td>16</td>\n",
       "      <td>6.456107e-02</td>\n",
       "    </tr>\n",
       "    <tr>\n",
       "      <th>17</th>\n",
       "      <td>17</td>\n",
       "      <td>7.595420e-02</td>\n",
       "    </tr>\n",
       "    <tr>\n",
       "      <th>18</th>\n",
       "      <td>18</td>\n",
       "      <td>8.439355e-02</td>\n",
       "    </tr>\n",
       "    <tr>\n",
       "      <th>19</th>\n",
       "      <td>19</td>\n",
       "      <td>8.883532e-02</td>\n",
       "    </tr>\n",
       "    <tr>\n",
       "      <th>20</th>\n",
       "      <td>20</td>\n",
       "      <td>8.883532e-02</td>\n",
       "    </tr>\n",
       "    <tr>\n",
       "      <th>21</th>\n",
       "      <td>21</td>\n",
       "      <td>8.460506e-02</td>\n",
       "    </tr>\n",
       "    <tr>\n",
       "      <th>22</th>\n",
       "      <td>22</td>\n",
       "      <td>7.691369e-02</td>\n",
       "    </tr>\n",
       "    <tr>\n",
       "      <th>23</th>\n",
       "      <td>23</td>\n",
       "      <td>6.688147e-02</td>\n",
       "    </tr>\n",
       "    <tr>\n",
       "      <th>24</th>\n",
       "      <td>24</td>\n",
       "      <td>5.573456e-02</td>\n",
       "    </tr>\n",
       "    <tr>\n",
       "      <th>25</th>\n",
       "      <td>25</td>\n",
       "      <td>4.458765e-02</td>\n",
       "    </tr>\n",
       "    <tr>\n",
       "      <th>26</th>\n",
       "      <td>26</td>\n",
       "      <td>3.429819e-02</td>\n",
       "    </tr>\n",
       "    <tr>\n",
       "      <th>27</th>\n",
       "      <td>27</td>\n",
       "      <td>2.540607e-02</td>\n",
       "    </tr>\n",
       "    <tr>\n",
       "      <th>28</th>\n",
       "      <td>28</td>\n",
       "      <td>1.814719e-02</td>\n",
       "    </tr>\n",
       "    <tr>\n",
       "      <th>29</th>\n",
       "      <td>29</td>\n",
       "      <td>1.251530e-02</td>\n",
       "    </tr>\n",
       "    <tr>\n",
       "      <th>30</th>\n",
       "      <td>30</td>\n",
       "      <td>8.343536e-03</td>\n",
       "    </tr>\n",
       "    <tr>\n",
       "      <th>31</th>\n",
       "      <td>31</td>\n",
       "      <td>5.382927e-03</td>\n",
       "    </tr>\n",
       "    <tr>\n",
       "      <th>32</th>\n",
       "      <td>32</td>\n",
       "      <td>3.364329e-03</td>\n",
       "    </tr>\n",
       "    <tr>\n",
       "      <th>33</th>\n",
       "      <td>33</td>\n",
       "      <td>2.038987e-03</td>\n",
       "    </tr>\n",
       "    <tr>\n",
       "      <th>34</th>\n",
       "      <td>34</td>\n",
       "      <td>1.199404e-03</td>\n",
       "    </tr>\n",
       "    <tr>\n",
       "      <th>35</th>\n",
       "      <td>35</td>\n",
       "      <td>6.853739e-04</td>\n",
       "    </tr>\n",
       "    <tr>\n",
       "      <th>36</th>\n",
       "      <td>36</td>\n",
       "      <td>3.807633e-04</td>\n",
       "    </tr>\n",
       "    <tr>\n",
       "      <th>37</th>\n",
       "      <td>37</td>\n",
       "      <td>2.058180e-04</td>\n",
       "    </tr>\n",
       "    <tr>\n",
       "      <th>38</th>\n",
       "      <td>38</td>\n",
       "      <td>1.083253e-04</td>\n",
       "    </tr>\n",
       "    <tr>\n",
       "      <th>39</th>\n",
       "      <td>39</td>\n",
       "      <td>5.555141e-05</td>\n",
       "    </tr>\n",
       "    <tr>\n",
       "      <th>40</th>\n",
       "      <td>40</td>\n",
       "      <td>2.777571e-05</td>\n",
       "    </tr>\n",
       "    <tr>\n",
       "      <th>41</th>\n",
       "      <td>41</td>\n",
       "      <td>1.354913e-05</td>\n",
       "    </tr>\n",
       "    <tr>\n",
       "      <th>42</th>\n",
       "      <td>42</td>\n",
       "      <td>6.451964e-06</td>\n",
       "    </tr>\n",
       "    <tr>\n",
       "      <th>43</th>\n",
       "      <td>43</td>\n",
       "      <td>3.000914e-06</td>\n",
       "    </tr>\n",
       "    <tr>\n",
       "      <th>44</th>\n",
       "      <td>44</td>\n",
       "      <td>1.364052e-06</td>\n",
       "    </tr>\n",
       "  </tbody>\n",
       "</table>\n",
       "</div>"
      ],
      "text/plain": [
       "    numero de ligações  probabilidade\n",
       "0                    0   2.061154e-09\n",
       "1                    1   4.122307e-08\n",
       "2                    2   4.122307e-07\n",
       "3                    3   2.748205e-06\n",
       "4                    4   1.374102e-05\n",
       "5                    5   5.496410e-05\n",
       "6                    6   1.832137e-04\n",
       "7                    7   5.234676e-04\n",
       "8                    8   1.308669e-03\n",
       "9                    9   2.908153e-03\n",
       "10                  10   5.816307e-03\n",
       "11                  11   1.057510e-02\n",
       "12                  12   1.762517e-02\n",
       "13                  13   2.711565e-02\n",
       "14                  14   3.873664e-02\n",
       "15                  15   5.164885e-02\n",
       "16                  16   6.456107e-02\n",
       "17                  17   7.595420e-02\n",
       "18                  18   8.439355e-02\n",
       "19                  19   8.883532e-02\n",
       "20                  20   8.883532e-02\n",
       "21                  21   8.460506e-02\n",
       "22                  22   7.691369e-02\n",
       "23                  23   6.688147e-02\n",
       "24                  24   5.573456e-02\n",
       "25                  25   4.458765e-02\n",
       "26                  26   3.429819e-02\n",
       "27                  27   2.540607e-02\n",
       "28                  28   1.814719e-02\n",
       "29                  29   1.251530e-02\n",
       "30                  30   8.343536e-03\n",
       "31                  31   5.382927e-03\n",
       "32                  32   3.364329e-03\n",
       "33                  33   2.038987e-03\n",
       "34                  34   1.199404e-03\n",
       "35                  35   6.853739e-04\n",
       "36                  36   3.807633e-04\n",
       "37                  37   2.058180e-04\n",
       "38                  38   1.083253e-04\n",
       "39                  39   5.555141e-05\n",
       "40                  40   2.777571e-05\n",
       "41                  41   1.354913e-05\n",
       "42                  42   6.451964e-06\n",
       "43                  43   3.000914e-06\n",
       "44                  44   1.364052e-06"
      ]
     },
     "execution_count": 49,
     "metadata": {},
     "output_type": "execute_result"
    }
   ],
   "source": [
    "df_experimento = pd.DataFrame(experimento)\n",
    "df_experimento"
   ]
  },
  {
   "cell_type": "code",
   "execution_count": 50,
   "id": "7091c171",
   "metadata": {},
   "outputs": [
    {
     "data": {
      "text/html": [
       "<div>\n",
       "<style scoped>\n",
       "    .dataframe tbody tr th:only-of-type {\n",
       "        vertical-align: middle;\n",
       "    }\n",
       "\n",
       "    .dataframe tbody tr th {\n",
       "        vertical-align: top;\n",
       "    }\n",
       "\n",
       "    .dataframe thead th {\n",
       "        text-align: right;\n",
       "    }\n",
       "</style>\n",
       "<table border=\"1\" class=\"dataframe\">\n",
       "  <thead>\n",
       "    <tr style=\"text-align: right;\">\n",
       "      <th></th>\n",
       "      <th>numero de ligações</th>\n",
       "      <th>probabilidade</th>\n",
       "      <th>p_formatado</th>\n",
       "    </tr>\n",
       "  </thead>\n",
       "  <tbody>\n",
       "    <tr>\n",
       "      <th>0</th>\n",
       "      <td>0</td>\n",
       "      <td>2.061154e-09</td>\n",
       "      <td>0.000000206%</td>\n",
       "    </tr>\n",
       "    <tr>\n",
       "      <th>1</th>\n",
       "      <td>1</td>\n",
       "      <td>4.122307e-08</td>\n",
       "      <td>0.000004122%</td>\n",
       "    </tr>\n",
       "    <tr>\n",
       "      <th>2</th>\n",
       "      <td>2</td>\n",
       "      <td>4.122307e-07</td>\n",
       "      <td>0.000041223%</td>\n",
       "    </tr>\n",
       "    <tr>\n",
       "      <th>3</th>\n",
       "      <td>3</td>\n",
       "      <td>2.748205e-06</td>\n",
       "      <td>0.000274820%</td>\n",
       "    </tr>\n",
       "    <tr>\n",
       "      <th>4</th>\n",
       "      <td>4</td>\n",
       "      <td>1.374102e-05</td>\n",
       "      <td>0.001374102%</td>\n",
       "    </tr>\n",
       "    <tr>\n",
       "      <th>5</th>\n",
       "      <td>5</td>\n",
       "      <td>5.496410e-05</td>\n",
       "      <td>0.005496410%</td>\n",
       "    </tr>\n",
       "    <tr>\n",
       "      <th>6</th>\n",
       "      <td>6</td>\n",
       "      <td>1.832137e-04</td>\n",
       "      <td>0.018321366%</td>\n",
       "    </tr>\n",
       "    <tr>\n",
       "      <th>7</th>\n",
       "      <td>7</td>\n",
       "      <td>5.234676e-04</td>\n",
       "      <td>0.052346759%</td>\n",
       "    </tr>\n",
       "    <tr>\n",
       "      <th>8</th>\n",
       "      <td>8</td>\n",
       "      <td>1.308669e-03</td>\n",
       "      <td>0.130866897%</td>\n",
       "    </tr>\n",
       "    <tr>\n",
       "      <th>9</th>\n",
       "      <td>9</td>\n",
       "      <td>2.908153e-03</td>\n",
       "      <td>0.290815326%</td>\n",
       "    </tr>\n",
       "    <tr>\n",
       "      <th>10</th>\n",
       "      <td>10</td>\n",
       "      <td>5.816307e-03</td>\n",
       "      <td>0.581630652%</td>\n",
       "    </tr>\n",
       "    <tr>\n",
       "      <th>11</th>\n",
       "      <td>11</td>\n",
       "      <td>1.057510e-02</td>\n",
       "      <td>1.057510276%</td>\n",
       "    </tr>\n",
       "    <tr>\n",
       "      <th>12</th>\n",
       "      <td>12</td>\n",
       "      <td>1.762517e-02</td>\n",
       "      <td>1.762517127%</td>\n",
       "    </tr>\n",
       "    <tr>\n",
       "      <th>13</th>\n",
       "      <td>13</td>\n",
       "      <td>2.711565e-02</td>\n",
       "      <td>2.711564810%</td>\n",
       "    </tr>\n",
       "    <tr>\n",
       "      <th>14</th>\n",
       "      <td>14</td>\n",
       "      <td>3.873664e-02</td>\n",
       "      <td>3.873664015%</td>\n",
       "    </tr>\n",
       "    <tr>\n",
       "      <th>15</th>\n",
       "      <td>15</td>\n",
       "      <td>5.164885e-02</td>\n",
       "      <td>5.164885353%</td>\n",
       "    </tr>\n",
       "    <tr>\n",
       "      <th>16</th>\n",
       "      <td>16</td>\n",
       "      <td>6.456107e-02</td>\n",
       "      <td>6.456106691%</td>\n",
       "    </tr>\n",
       "    <tr>\n",
       "      <th>17</th>\n",
       "      <td>17</td>\n",
       "      <td>7.595420e-02</td>\n",
       "      <td>7.595419637%</td>\n",
       "    </tr>\n",
       "    <tr>\n",
       "      <th>18</th>\n",
       "      <td>18</td>\n",
       "      <td>8.439355e-02</td>\n",
       "      <td>8.439355152%</td>\n",
       "    </tr>\n",
       "    <tr>\n",
       "      <th>19</th>\n",
       "      <td>19</td>\n",
       "      <td>8.883532e-02</td>\n",
       "      <td>8.883531739%</td>\n",
       "    </tr>\n",
       "    <tr>\n",
       "      <th>20</th>\n",
       "      <td>20</td>\n",
       "      <td>8.883532e-02</td>\n",
       "      <td>8.883531739%</td>\n",
       "    </tr>\n",
       "    <tr>\n",
       "      <th>21</th>\n",
       "      <td>21</td>\n",
       "      <td>8.460506e-02</td>\n",
       "      <td>8.460506418%</td>\n",
       "    </tr>\n",
       "    <tr>\n",
       "      <th>22</th>\n",
       "      <td>22</td>\n",
       "      <td>7.691369e-02</td>\n",
       "      <td>7.691369471%</td>\n",
       "    </tr>\n",
       "    <tr>\n",
       "      <th>23</th>\n",
       "      <td>23</td>\n",
       "      <td>6.688147e-02</td>\n",
       "      <td>6.688147366%</td>\n",
       "    </tr>\n",
       "    <tr>\n",
       "      <th>24</th>\n",
       "      <td>24</td>\n",
       "      <td>5.573456e-02</td>\n",
       "      <td>5.573456139%</td>\n",
       "    </tr>\n",
       "    <tr>\n",
       "      <th>25</th>\n",
       "      <td>25</td>\n",
       "      <td>4.458765e-02</td>\n",
       "      <td>4.458764911%</td>\n",
       "    </tr>\n",
       "    <tr>\n",
       "      <th>26</th>\n",
       "      <td>26</td>\n",
       "      <td>3.429819e-02</td>\n",
       "      <td>3.429819162%</td>\n",
       "    </tr>\n",
       "    <tr>\n",
       "      <th>27</th>\n",
       "      <td>27</td>\n",
       "      <td>2.540607e-02</td>\n",
       "      <td>2.540606787%</td>\n",
       "    </tr>\n",
       "    <tr>\n",
       "      <th>28</th>\n",
       "      <td>28</td>\n",
       "      <td>1.814719e-02</td>\n",
       "      <td>1.814719133%</td>\n",
       "    </tr>\n",
       "    <tr>\n",
       "      <th>29</th>\n",
       "      <td>29</td>\n",
       "      <td>1.251530e-02</td>\n",
       "      <td>1.251530437%</td>\n",
       "    </tr>\n",
       "    <tr>\n",
       "      <th>30</th>\n",
       "      <td>30</td>\n",
       "      <td>8.343536e-03</td>\n",
       "      <td>0.834353625%</td>\n",
       "    </tr>\n",
       "    <tr>\n",
       "      <th>31</th>\n",
       "      <td>31</td>\n",
       "      <td>5.382927e-03</td>\n",
       "      <td>0.538292661%</td>\n",
       "    </tr>\n",
       "    <tr>\n",
       "      <th>32</th>\n",
       "      <td>32</td>\n",
       "      <td>3.364329e-03</td>\n",
       "      <td>0.336432913%</td>\n",
       "    </tr>\n",
       "    <tr>\n",
       "      <th>33</th>\n",
       "      <td>33</td>\n",
       "      <td>2.038987e-03</td>\n",
       "      <td>0.203898735%</td>\n",
       "    </tr>\n",
       "    <tr>\n",
       "      <th>34</th>\n",
       "      <td>34</td>\n",
       "      <td>1.199404e-03</td>\n",
       "      <td>0.119940432%</td>\n",
       "    </tr>\n",
       "    <tr>\n",
       "      <th>35</th>\n",
       "      <td>35</td>\n",
       "      <td>6.853739e-04</td>\n",
       "      <td>0.068537390%</td>\n",
       "    </tr>\n",
       "    <tr>\n",
       "      <th>36</th>\n",
       "      <td>36</td>\n",
       "      <td>3.807633e-04</td>\n",
       "      <td>0.038076328%</td>\n",
       "    </tr>\n",
       "    <tr>\n",
       "      <th>37</th>\n",
       "      <td>37</td>\n",
       "      <td>2.058180e-04</td>\n",
       "      <td>0.020581799%</td>\n",
       "    </tr>\n",
       "    <tr>\n",
       "      <th>38</th>\n",
       "      <td>38</td>\n",
       "      <td>1.083253e-04</td>\n",
       "      <td>0.010832526%</td>\n",
       "    </tr>\n",
       "    <tr>\n",
       "      <th>39</th>\n",
       "      <td>39</td>\n",
       "      <td>5.555141e-05</td>\n",
       "      <td>0.005555141%</td>\n",
       "    </tr>\n",
       "    <tr>\n",
       "      <th>40</th>\n",
       "      <td>40</td>\n",
       "      <td>2.777571e-05</td>\n",
       "      <td>0.002777571%</td>\n",
       "    </tr>\n",
       "    <tr>\n",
       "      <th>41</th>\n",
       "      <td>41</td>\n",
       "      <td>1.354913e-05</td>\n",
       "      <td>0.001354913%</td>\n",
       "    </tr>\n",
       "    <tr>\n",
       "      <th>42</th>\n",
       "      <td>42</td>\n",
       "      <td>6.451964e-06</td>\n",
       "      <td>0.000645196%</td>\n",
       "    </tr>\n",
       "    <tr>\n",
       "      <th>43</th>\n",
       "      <td>43</td>\n",
       "      <td>3.000914e-06</td>\n",
       "      <td>0.000300091%</td>\n",
       "    </tr>\n",
       "    <tr>\n",
       "      <th>44</th>\n",
       "      <td>44</td>\n",
       "      <td>1.364052e-06</td>\n",
       "      <td>0.000136405%</td>\n",
       "    </tr>\n",
       "  </tbody>\n",
       "</table>\n",
       "</div>"
      ],
      "text/plain": [
       "    numero de ligações  probabilidade   p_formatado\n",
       "0                    0   2.061154e-09  0.000000206%\n",
       "1                    1   4.122307e-08  0.000004122%\n",
       "2                    2   4.122307e-07  0.000041223%\n",
       "3                    3   2.748205e-06  0.000274820%\n",
       "4                    4   1.374102e-05  0.001374102%\n",
       "5                    5   5.496410e-05  0.005496410%\n",
       "6                    6   1.832137e-04  0.018321366%\n",
       "7                    7   5.234676e-04  0.052346759%\n",
       "8                    8   1.308669e-03  0.130866897%\n",
       "9                    9   2.908153e-03  0.290815326%\n",
       "10                  10   5.816307e-03  0.581630652%\n",
       "11                  11   1.057510e-02  1.057510276%\n",
       "12                  12   1.762517e-02  1.762517127%\n",
       "13                  13   2.711565e-02  2.711564810%\n",
       "14                  14   3.873664e-02  3.873664015%\n",
       "15                  15   5.164885e-02  5.164885353%\n",
       "16                  16   6.456107e-02  6.456106691%\n",
       "17                  17   7.595420e-02  7.595419637%\n",
       "18                  18   8.439355e-02  8.439355152%\n",
       "19                  19   8.883532e-02  8.883531739%\n",
       "20                  20   8.883532e-02  8.883531739%\n",
       "21                  21   8.460506e-02  8.460506418%\n",
       "22                  22   7.691369e-02  7.691369471%\n",
       "23                  23   6.688147e-02  6.688147366%\n",
       "24                  24   5.573456e-02  5.573456139%\n",
       "25                  25   4.458765e-02  4.458764911%\n",
       "26                  26   3.429819e-02  3.429819162%\n",
       "27                  27   2.540607e-02  2.540606787%\n",
       "28                  28   1.814719e-02  1.814719133%\n",
       "29                  29   1.251530e-02  1.251530437%\n",
       "30                  30   8.343536e-03  0.834353625%\n",
       "31                  31   5.382927e-03  0.538292661%\n",
       "32                  32   3.364329e-03  0.336432913%\n",
       "33                  33   2.038987e-03  0.203898735%\n",
       "34                  34   1.199404e-03  0.119940432%\n",
       "35                  35   6.853739e-04  0.068537390%\n",
       "36                  36   3.807633e-04  0.038076328%\n",
       "37                  37   2.058180e-04  0.020581799%\n",
       "38                  38   1.083253e-04  0.010832526%\n",
       "39                  39   5.555141e-05  0.005555141%\n",
       "40                  40   2.777571e-05  0.002777571%\n",
       "41                  41   1.354913e-05  0.001354913%\n",
       "42                  42   6.451964e-06  0.000645196%\n",
       "43                  43   3.000914e-06  0.000300091%\n",
       "44                  44   1.364052e-06  0.000136405%"
      ]
     },
     "execution_count": 50,
     "metadata": {},
     "output_type": "execute_result"
    }
   ],
   "source": [
    "df_experimento[\"p_formatado\"] = df_experimento[\"probabilidade\"].apply(lambda x: f\"{x:.9%}\" )\n",
    "df_experimento"
   ]
  },
  {
   "cell_type": "code",
   "execution_count": 51,
   "id": "05e12310",
   "metadata": {},
   "outputs": [
    {
     "data": {
      "text/plain": [
       "0     2.06115362e-09\n",
       "1     4.32842261e-08\n",
       "2     4.55514951e-07\n",
       "3     3.20371978e-06\n",
       "4     1.69447439e-05\n",
       "5     7.19088405e-05\n",
       "6     0.000255122496\n",
       "7     0.000778590083\n",
       "8      0.00208725905\n",
       "9      0.00499541231\n",
       "10      0.0108117188\n",
       "11      0.0213868216\n",
       "12      0.0390119929\n",
       "13       0.066127641\n",
       "14       0.104864281\n",
       "15       0.156513135\n",
       "16       0.221074202\n",
       "17       0.297028398\n",
       "18       0.381421949\n",
       "19       0.470257267\n",
       "20       0.559092584\n",
       "21       0.643697648\n",
       "22       0.720611343\n",
       "23       0.787492817\n",
       "24       0.843227378\n",
       "25       0.887815027\n",
       "26       0.922113219\n",
       "27       0.947519287\n",
       "28       0.965666478\n",
       "29       0.978181782\n",
       "30       0.986525319\n",
       "31       0.991908245\n",
       "32       0.995272574\n",
       "33       0.997311562\n",
       "34       0.998510966\n",
       "35        0.99919634\n",
       "36       0.999577103\n",
       "37       0.999782921\n",
       "38       0.999891247\n",
       "39       0.999946798\n",
       "40       0.999974574\n",
       "41       0.999988123\n",
       "42       0.999994575\n",
       "43       0.999997576\n",
       "44        0.99999894\n",
       "Name: probabilidade, dtype: object"
      ]
     },
     "execution_count": 51,
     "metadata": {},
     "output_type": "execute_result"
    }
   ],
   "source": [
    "df_experimento[\"probabilidade\"].cumsum().apply(lambda x: f\"{x:.9}\")"
   ]
  },
  {
   "cell_type": "code",
   "execution_count": 52,
   "id": "72ea925a",
   "metadata": {},
   "outputs": [
    {
     "data": {
      "text/html": [
       "<div>\n",
       "<style scoped>\n",
       "    .dataframe tbody tr th:only-of-type {\n",
       "        vertical-align: middle;\n",
       "    }\n",
       "\n",
       "    .dataframe tbody tr th {\n",
       "        vertical-align: top;\n",
       "    }\n",
       "\n",
       "    .dataframe thead th {\n",
       "        text-align: right;\n",
       "    }\n",
       "</style>\n",
       "<table border=\"1\" class=\"dataframe\">\n",
       "  <thead>\n",
       "    <tr style=\"text-align: right;\">\n",
       "      <th></th>\n",
       "      <th>numero de ligações</th>\n",
       "      <th>probabilidade</th>\n",
       "      <th>p_formatado</th>\n",
       "      <th>p_acum</th>\n",
       "    </tr>\n",
       "  </thead>\n",
       "  <tbody>\n",
       "    <tr>\n",
       "      <th>0</th>\n",
       "      <td>0</td>\n",
       "      <td>2.061154e-09</td>\n",
       "      <td>0.000000206%</td>\n",
       "      <td>0.000000206%</td>\n",
       "    </tr>\n",
       "    <tr>\n",
       "      <th>1</th>\n",
       "      <td>1</td>\n",
       "      <td>4.122307e-08</td>\n",
       "      <td>0.000004122%</td>\n",
       "      <td>0.000004328%</td>\n",
       "    </tr>\n",
       "    <tr>\n",
       "      <th>2</th>\n",
       "      <td>2</td>\n",
       "      <td>4.122307e-07</td>\n",
       "      <td>0.000041223%</td>\n",
       "      <td>0.000045551%</td>\n",
       "    </tr>\n",
       "    <tr>\n",
       "      <th>3</th>\n",
       "      <td>3</td>\n",
       "      <td>2.748205e-06</td>\n",
       "      <td>0.000274820%</td>\n",
       "      <td>0.000320372%</td>\n",
       "    </tr>\n",
       "    <tr>\n",
       "      <th>4</th>\n",
       "      <td>4</td>\n",
       "      <td>1.374102e-05</td>\n",
       "      <td>0.001374102%</td>\n",
       "      <td>0.001694474%</td>\n",
       "    </tr>\n",
       "    <tr>\n",
       "      <th>5</th>\n",
       "      <td>5</td>\n",
       "      <td>5.496410e-05</td>\n",
       "      <td>0.005496410%</td>\n",
       "      <td>0.007190884%</td>\n",
       "    </tr>\n",
       "    <tr>\n",
       "      <th>6</th>\n",
       "      <td>6</td>\n",
       "      <td>1.832137e-04</td>\n",
       "      <td>0.018321366%</td>\n",
       "      <td>0.025512250%</td>\n",
       "    </tr>\n",
       "    <tr>\n",
       "      <th>7</th>\n",
       "      <td>7</td>\n",
       "      <td>5.234676e-04</td>\n",
       "      <td>0.052346759%</td>\n",
       "      <td>0.077859008%</td>\n",
       "    </tr>\n",
       "    <tr>\n",
       "      <th>8</th>\n",
       "      <td>8</td>\n",
       "      <td>1.308669e-03</td>\n",
       "      <td>0.130866897%</td>\n",
       "      <td>0.208725905%</td>\n",
       "    </tr>\n",
       "    <tr>\n",
       "      <th>9</th>\n",
       "      <td>9</td>\n",
       "      <td>2.908153e-03</td>\n",
       "      <td>0.290815326%</td>\n",
       "      <td>0.499541231%</td>\n",
       "    </tr>\n",
       "    <tr>\n",
       "      <th>10</th>\n",
       "      <td>10</td>\n",
       "      <td>5.816307e-03</td>\n",
       "      <td>0.581630652%</td>\n",
       "      <td>1.081171883%</td>\n",
       "    </tr>\n",
       "    <tr>\n",
       "      <th>11</th>\n",
       "      <td>11</td>\n",
       "      <td>1.057510e-02</td>\n",
       "      <td>1.057510276%</td>\n",
       "      <td>2.138682159%</td>\n",
       "    </tr>\n",
       "    <tr>\n",
       "      <th>12</th>\n",
       "      <td>12</td>\n",
       "      <td>1.762517e-02</td>\n",
       "      <td>1.762517127%</td>\n",
       "      <td>3.901199285%</td>\n",
       "    </tr>\n",
       "    <tr>\n",
       "      <th>13</th>\n",
       "      <td>13</td>\n",
       "      <td>2.711565e-02</td>\n",
       "      <td>2.711564810%</td>\n",
       "      <td>6.612764096%</td>\n",
       "    </tr>\n",
       "    <tr>\n",
       "      <th>14</th>\n",
       "      <td>14</td>\n",
       "      <td>3.873664e-02</td>\n",
       "      <td>3.873664015%</td>\n",
       "      <td>10.486428111%</td>\n",
       "    </tr>\n",
       "    <tr>\n",
       "      <th>15</th>\n",
       "      <td>15</td>\n",
       "      <td>5.164885e-02</td>\n",
       "      <td>5.164885353%</td>\n",
       "      <td>15.651313464%</td>\n",
       "    </tr>\n",
       "    <tr>\n",
       "      <th>16</th>\n",
       "      <td>16</td>\n",
       "      <td>6.456107e-02</td>\n",
       "      <td>6.456106691%</td>\n",
       "      <td>22.107420155%</td>\n",
       "    </tr>\n",
       "    <tr>\n",
       "      <th>17</th>\n",
       "      <td>17</td>\n",
       "      <td>7.595420e-02</td>\n",
       "      <td>7.595419637%</td>\n",
       "      <td>29.702839792%</td>\n",
       "    </tr>\n",
       "    <tr>\n",
       "      <th>18</th>\n",
       "      <td>18</td>\n",
       "      <td>8.439355e-02</td>\n",
       "      <td>8.439355152%</td>\n",
       "      <td>38.142194945%</td>\n",
       "    </tr>\n",
       "    <tr>\n",
       "      <th>19</th>\n",
       "      <td>19</td>\n",
       "      <td>8.883532e-02</td>\n",
       "      <td>8.883531739%</td>\n",
       "      <td>47.025726684%</td>\n",
       "    </tr>\n",
       "    <tr>\n",
       "      <th>20</th>\n",
       "      <td>20</td>\n",
       "      <td>8.883532e-02</td>\n",
       "      <td>8.883531739%</td>\n",
       "      <td>55.909258423%</td>\n",
       "    </tr>\n",
       "    <tr>\n",
       "      <th>21</th>\n",
       "      <td>21</td>\n",
       "      <td>8.460506e-02</td>\n",
       "      <td>8.460506418%</td>\n",
       "      <td>64.369764841%</td>\n",
       "    </tr>\n",
       "    <tr>\n",
       "      <th>22</th>\n",
       "      <td>22</td>\n",
       "      <td>7.691369e-02</td>\n",
       "      <td>7.691369471%</td>\n",
       "      <td>72.061134313%</td>\n",
       "    </tr>\n",
       "    <tr>\n",
       "      <th>23</th>\n",
       "      <td>23</td>\n",
       "      <td>6.688147e-02</td>\n",
       "      <td>6.688147366%</td>\n",
       "      <td>78.749281679%</td>\n",
       "    </tr>\n",
       "    <tr>\n",
       "      <th>24</th>\n",
       "      <td>24</td>\n",
       "      <td>5.573456e-02</td>\n",
       "      <td>5.573456139%</td>\n",
       "      <td>84.322737817%</td>\n",
       "    </tr>\n",
       "    <tr>\n",
       "      <th>25</th>\n",
       "      <td>25</td>\n",
       "      <td>4.458765e-02</td>\n",
       "      <td>4.458764911%</td>\n",
       "      <td>88.781502728%</td>\n",
       "    </tr>\n",
       "    <tr>\n",
       "      <th>26</th>\n",
       "      <td>26</td>\n",
       "      <td>3.429819e-02</td>\n",
       "      <td>3.429819162%</td>\n",
       "      <td>92.211321890%</td>\n",
       "    </tr>\n",
       "    <tr>\n",
       "      <th>27</th>\n",
       "      <td>27</td>\n",
       "      <td>2.540607e-02</td>\n",
       "      <td>2.540606787%</td>\n",
       "      <td>94.751928677%</td>\n",
       "    </tr>\n",
       "    <tr>\n",
       "      <th>28</th>\n",
       "      <td>28</td>\n",
       "      <td>1.814719e-02</td>\n",
       "      <td>1.814719133%</td>\n",
       "      <td>96.566647811%</td>\n",
       "    </tr>\n",
       "    <tr>\n",
       "      <th>29</th>\n",
       "      <td>29</td>\n",
       "      <td>1.251530e-02</td>\n",
       "      <td>1.251530437%</td>\n",
       "      <td>97.818178247%</td>\n",
       "    </tr>\n",
       "    <tr>\n",
       "      <th>30</th>\n",
       "      <td>30</td>\n",
       "      <td>8.343536e-03</td>\n",
       "      <td>0.834353625%</td>\n",
       "      <td>98.652531872%</td>\n",
       "    </tr>\n",
       "    <tr>\n",
       "      <th>31</th>\n",
       "      <td>31</td>\n",
       "      <td>5.382927e-03</td>\n",
       "      <td>0.538292661%</td>\n",
       "      <td>99.190824533%</td>\n",
       "    </tr>\n",
       "    <tr>\n",
       "      <th>32</th>\n",
       "      <td>32</td>\n",
       "      <td>3.364329e-03</td>\n",
       "      <td>0.336432913%</td>\n",
       "      <td>99.527257446%</td>\n",
       "    </tr>\n",
       "    <tr>\n",
       "      <th>33</th>\n",
       "      <td>33</td>\n",
       "      <td>2.038987e-03</td>\n",
       "      <td>0.203898735%</td>\n",
       "      <td>99.731156181%</td>\n",
       "    </tr>\n",
       "    <tr>\n",
       "      <th>34</th>\n",
       "      <td>34</td>\n",
       "      <td>1.199404e-03</td>\n",
       "      <td>0.119940432%</td>\n",
       "      <td>99.851096614%</td>\n",
       "    </tr>\n",
       "    <tr>\n",
       "      <th>35</th>\n",
       "      <td>35</td>\n",
       "      <td>6.853739e-04</td>\n",
       "      <td>0.068537390%</td>\n",
       "      <td>99.919634004%</td>\n",
       "    </tr>\n",
       "    <tr>\n",
       "      <th>36</th>\n",
       "      <td>36</td>\n",
       "      <td>3.807633e-04</td>\n",
       "      <td>0.038076328%</td>\n",
       "      <td>99.957710332%</td>\n",
       "    </tr>\n",
       "    <tr>\n",
       "      <th>37</th>\n",
       "      <td>37</td>\n",
       "      <td>2.058180e-04</td>\n",
       "      <td>0.020581799%</td>\n",
       "      <td>99.978292130%</td>\n",
       "    </tr>\n",
       "    <tr>\n",
       "      <th>38</th>\n",
       "      <td>38</td>\n",
       "      <td>1.083253e-04</td>\n",
       "      <td>0.010832526%</td>\n",
       "      <td>99.989124656%</td>\n",
       "    </tr>\n",
       "    <tr>\n",
       "      <th>39</th>\n",
       "      <td>39</td>\n",
       "      <td>5.555141e-05</td>\n",
       "      <td>0.005555141%</td>\n",
       "      <td>99.994679797%</td>\n",
       "    </tr>\n",
       "    <tr>\n",
       "      <th>40</th>\n",
       "      <td>40</td>\n",
       "      <td>2.777571e-05</td>\n",
       "      <td>0.002777571%</td>\n",
       "      <td>99.997457368%</td>\n",
       "    </tr>\n",
       "    <tr>\n",
       "      <th>41</th>\n",
       "      <td>41</td>\n",
       "      <td>1.354913e-05</td>\n",
       "      <td>0.001354913%</td>\n",
       "      <td>99.998812281%</td>\n",
       "    </tr>\n",
       "    <tr>\n",
       "      <th>42</th>\n",
       "      <td>42</td>\n",
       "      <td>6.451964e-06</td>\n",
       "      <td>0.000645196%</td>\n",
       "      <td>99.999457477%</td>\n",
       "    </tr>\n",
       "    <tr>\n",
       "      <th>43</th>\n",
       "      <td>43</td>\n",
       "      <td>3.000914e-06</td>\n",
       "      <td>0.000300091%</td>\n",
       "      <td>99.999757569%</td>\n",
       "    </tr>\n",
       "    <tr>\n",
       "      <th>44</th>\n",
       "      <td>44</td>\n",
       "      <td>1.364052e-06</td>\n",
       "      <td>0.000136405%</td>\n",
       "      <td>99.999893974%</td>\n",
       "    </tr>\n",
       "  </tbody>\n",
       "</table>\n",
       "</div>"
      ],
      "text/plain": [
       "    numero de ligações  probabilidade   p_formatado         p_acum\n",
       "0                    0   2.061154e-09  0.000000206%   0.000000206%\n",
       "1                    1   4.122307e-08  0.000004122%   0.000004328%\n",
       "2                    2   4.122307e-07  0.000041223%   0.000045551%\n",
       "3                    3   2.748205e-06  0.000274820%   0.000320372%\n",
       "4                    4   1.374102e-05  0.001374102%   0.001694474%\n",
       "5                    5   5.496410e-05  0.005496410%   0.007190884%\n",
       "6                    6   1.832137e-04  0.018321366%   0.025512250%\n",
       "7                    7   5.234676e-04  0.052346759%   0.077859008%\n",
       "8                    8   1.308669e-03  0.130866897%   0.208725905%\n",
       "9                    9   2.908153e-03  0.290815326%   0.499541231%\n",
       "10                  10   5.816307e-03  0.581630652%   1.081171883%\n",
       "11                  11   1.057510e-02  1.057510276%   2.138682159%\n",
       "12                  12   1.762517e-02  1.762517127%   3.901199285%\n",
       "13                  13   2.711565e-02  2.711564810%   6.612764096%\n",
       "14                  14   3.873664e-02  3.873664015%  10.486428111%\n",
       "15                  15   5.164885e-02  5.164885353%  15.651313464%\n",
       "16                  16   6.456107e-02  6.456106691%  22.107420155%\n",
       "17                  17   7.595420e-02  7.595419637%  29.702839792%\n",
       "18                  18   8.439355e-02  8.439355152%  38.142194945%\n",
       "19                  19   8.883532e-02  8.883531739%  47.025726684%\n",
       "20                  20   8.883532e-02  8.883531739%  55.909258423%\n",
       "21                  21   8.460506e-02  8.460506418%  64.369764841%\n",
       "22                  22   7.691369e-02  7.691369471%  72.061134313%\n",
       "23                  23   6.688147e-02  6.688147366%  78.749281679%\n",
       "24                  24   5.573456e-02  5.573456139%  84.322737817%\n",
       "25                  25   4.458765e-02  4.458764911%  88.781502728%\n",
       "26                  26   3.429819e-02  3.429819162%  92.211321890%\n",
       "27                  27   2.540607e-02  2.540606787%  94.751928677%\n",
       "28                  28   1.814719e-02  1.814719133%  96.566647811%\n",
       "29                  29   1.251530e-02  1.251530437%  97.818178247%\n",
       "30                  30   8.343536e-03  0.834353625%  98.652531872%\n",
       "31                  31   5.382927e-03  0.538292661%  99.190824533%\n",
       "32                  32   3.364329e-03  0.336432913%  99.527257446%\n",
       "33                  33   2.038987e-03  0.203898735%  99.731156181%\n",
       "34                  34   1.199404e-03  0.119940432%  99.851096614%\n",
       "35                  35   6.853739e-04  0.068537390%  99.919634004%\n",
       "36                  36   3.807633e-04  0.038076328%  99.957710332%\n",
       "37                  37   2.058180e-04  0.020581799%  99.978292130%\n",
       "38                  38   1.083253e-04  0.010832526%  99.989124656%\n",
       "39                  39   5.555141e-05  0.005555141%  99.994679797%\n",
       "40                  40   2.777571e-05  0.002777571%  99.997457368%\n",
       "41                  41   1.354913e-05  0.001354913%  99.998812281%\n",
       "42                  42   6.451964e-06  0.000645196%  99.999457477%\n",
       "43                  43   3.000914e-06  0.000300091%  99.999757569%\n",
       "44                  44   1.364052e-06  0.000136405%  99.999893974%"
      ]
     },
     "execution_count": 52,
     "metadata": {},
     "output_type": "execute_result"
    }
   ],
   "source": [
    "df_experimento[\"p_acum\"] = df_experimento[\"probabilidade\"].cumsum().apply(lambda x: f\"{x:.9%}\")\n",
    "df_experimento"
   ]
  },
  {
   "cell_type": "code",
   "execution_count": 53,
   "id": "3aebe92a",
   "metadata": {},
   "outputs": [
    {
     "data": {
      "image/png": "[encoded data removed]",
      "text/plain": [
       "<Figure size 640x480 with 1 Axes>"
      ]
     },
     "metadata": {},
     "output_type": "display_data"
    }
   ],
   "source": [
    "plt.scatter(df_experimento[\"numero de ligações\"], df_experimento[\"probabilidade\"]);"
   ]
  },
  {
   "cell_type": "code",
   "execution_count": 54,
   "id": "ae8e9df9",
   "metadata": {},
   "outputs": [],
   "source": [
    "#Em um jogo da copa do mundo a quantidade media é 3. Qual a probabilidade de em um determinado jogo não ter gol?\n",
    "# e a probabilidade de ter 4?"
   ]
  },
  {
   "cell_type": "code",
   "execution_count": 55,
   "id": "324e8439",
   "metadata": {},
   "outputs": [],
   "source": [
    "l = 3"
   ]
  },
  {
   "cell_type": "code",
   "execution_count": 56,
   "id": "2d38556e",
   "metadata": {},
   "outputs": [
    {
     "data": {
      "text/plain": [
       "0.049787068367863944"
      ]
     },
     "execution_count": 56,
     "metadata": {},
     "output_type": "execute_result"
    }
   ],
   "source": [
    "p_0_s = scipy.stats.poisson.pmf(k=0, mu= l)\n",
    "p_0_s"
   ]
  },
  {
   "cell_type": "code",
   "execution_count": 57,
   "id": "3bde5c1f",
   "metadata": {},
   "outputs": [
    {
     "data": {
      "text/plain": [
       "0.16803135574154085"
      ]
     },
     "execution_count": 57,
     "metadata": {},
     "output_type": "execute_result"
    }
   ],
   "source": [
    "p_4_s = scipy.stats.poisson.pmf(k=4, mu= l)\n",
    "p_4_s"
   ]
  },
  {
   "cell_type": "code",
   "execution_count": 58,
   "id": "64bb92a9",
   "metadata": {},
   "outputs": [],
   "source": [
    "new_exp = {\n",
    "    \"numero de gols\": [],\n",
    "    \"probabilidade\": []\n",
    "}"
   ]
  },
  {
   "cell_type": "code",
   "execution_count": 59,
   "id": "84bf5dc1",
   "metadata": {},
   "outputs": [],
   "source": [
    "k_list = range(15)\n",
    "\n",
    "for k in k_list:\n",
    "    p = scipy.stats.poisson.pmf(k=k, mu=l)\n",
    "    \n",
    "    new_exp[\"numero de gols\"].append(k)\n",
    "    new_exp['probabilidade'].append(p)\n",
    "\n",
    "#======================================================\n",
    "\n",
    "df_new_experimento = pd.DataFrame(new_exp)\n",
    "df_new_experimento[\"p_formatado\"] = df_new_experimento['probabilidade'].apply(lambda x: f\"{x:.9%}\")\n",
    "df_new_experimento[\"p_acumulado\"] = df_new_experimento['probabilidade'].cumsum().apply(lambda x: f\"{x:.9%}\")"
   ]
  },
  {
   "cell_type": "code",
   "execution_count": 61,
   "id": "53684c4b",
   "metadata": {},
   "outputs": [
    {
     "data": {
      "text/html": [
       "<div>\n",
       "<style scoped>\n",
       "    .dataframe tbody tr th:only-of-type {\n",
       "        vertical-align: middle;\n",
       "    }\n",
       "\n",
       "    .dataframe tbody tr th {\n",
       "        vertical-align: top;\n",
       "    }\n",
       "\n",
       "    .dataframe thead th {\n",
       "        text-align: right;\n",
       "    }\n",
       "</style>\n",
       "<table border=\"1\" class=\"dataframe\">\n",
       "  <thead>\n",
       "    <tr style=\"text-align: right;\">\n",
       "      <th></th>\n",
       "      <th>numero de gols</th>\n",
       "      <th>probabilidade</th>\n",
       "      <th>p_formatado</th>\n",
       "      <th>p_acumulado</th>\n",
       "    </tr>\n",
       "  </thead>\n",
       "  <tbody>\n",
       "    <tr>\n",
       "      <th>0</th>\n",
       "      <td>0</td>\n",
       "      <td>0.049787</td>\n",
       "      <td>4.978706837%</td>\n",
       "      <td>4.978706837%</td>\n",
       "    </tr>\n",
       "    <tr>\n",
       "      <th>1</th>\n",
       "      <td>1</td>\n",
       "      <td>0.149361</td>\n",
       "      <td>14.936120510%</td>\n",
       "      <td>19.914827347%</td>\n",
       "    </tr>\n",
       "    <tr>\n",
       "      <th>2</th>\n",
       "      <td>2</td>\n",
       "      <td>0.224042</td>\n",
       "      <td>22.404180766%</td>\n",
       "      <td>42.319008113%</td>\n",
       "    </tr>\n",
       "    <tr>\n",
       "      <th>3</th>\n",
       "      <td>3</td>\n",
       "      <td>0.224042</td>\n",
       "      <td>22.404180766%</td>\n",
       "      <td>64.723188878%</td>\n",
       "    </tr>\n",
       "    <tr>\n",
       "      <th>4</th>\n",
       "      <td>4</td>\n",
       "      <td>0.168031</td>\n",
       "      <td>16.803135574%</td>\n",
       "      <td>81.526324452%</td>\n",
       "    </tr>\n",
       "    <tr>\n",
       "      <th>5</th>\n",
       "      <td>5</td>\n",
       "      <td>0.100819</td>\n",
       "      <td>10.081881344%</td>\n",
       "      <td>91.608205797%</td>\n",
       "    </tr>\n",
       "    <tr>\n",
       "      <th>6</th>\n",
       "      <td>6</td>\n",
       "      <td>0.050409</td>\n",
       "      <td>5.040940672%</td>\n",
       "      <td>96.649146469%</td>\n",
       "    </tr>\n",
       "    <tr>\n",
       "      <th>7</th>\n",
       "      <td>7</td>\n",
       "      <td>0.021604</td>\n",
       "      <td>2.160403145%</td>\n",
       "      <td>98.809549614%</td>\n",
       "    </tr>\n",
       "    <tr>\n",
       "      <th>8</th>\n",
       "      <td>8</td>\n",
       "      <td>0.008102</td>\n",
       "      <td>0.810151179%</td>\n",
       "      <td>99.619700794%</td>\n",
       "    </tr>\n",
       "    <tr>\n",
       "      <th>9</th>\n",
       "      <td>9</td>\n",
       "      <td>0.002701</td>\n",
       "      <td>0.270050393%</td>\n",
       "      <td>99.889751187%</td>\n",
       "    </tr>\n",
       "    <tr>\n",
       "      <th>10</th>\n",
       "      <td>10</td>\n",
       "      <td>0.000810</td>\n",
       "      <td>0.081015118%</td>\n",
       "      <td>99.970766305%</td>\n",
       "    </tr>\n",
       "    <tr>\n",
       "      <th>11</th>\n",
       "      <td>11</td>\n",
       "      <td>0.000221</td>\n",
       "      <td>0.022095032%</td>\n",
       "      <td>99.992861337%</td>\n",
       "    </tr>\n",
       "    <tr>\n",
       "      <th>12</th>\n",
       "      <td>12</td>\n",
       "      <td>0.000055</td>\n",
       "      <td>0.005523758%</td>\n",
       "      <td>99.998385095%</td>\n",
       "    </tr>\n",
       "    <tr>\n",
       "      <th>13</th>\n",
       "      <td>13</td>\n",
       "      <td>0.000013</td>\n",
       "      <td>0.001274713%</td>\n",
       "      <td>99.999659809%</td>\n",
       "    </tr>\n",
       "    <tr>\n",
       "      <th>14</th>\n",
       "      <td>14</td>\n",
       "      <td>0.000003</td>\n",
       "      <td>0.000273153%</td>\n",
       "      <td>99.999932961%</td>\n",
       "    </tr>\n",
       "  </tbody>\n",
       "</table>\n",
       "</div>"
      ],
      "text/plain": [
       "    numero de gols  probabilidade    p_formatado    p_acumulado\n",
       "0                0       0.049787   4.978706837%   4.978706837%\n",
       "1                1       0.149361  14.936120510%  19.914827347%\n",
       "2                2       0.224042  22.404180766%  42.319008113%\n",
       "3                3       0.224042  22.404180766%  64.723188878%\n",
       "4                4       0.168031  16.803135574%  81.526324452%\n",
       "5                5       0.100819  10.081881344%  91.608205797%\n",
       "6                6       0.050409   5.040940672%  96.649146469%\n",
       "7                7       0.021604   2.160403145%  98.809549614%\n",
       "8                8       0.008102   0.810151179%  99.619700794%\n",
       "9                9       0.002701   0.270050393%  99.889751187%\n",
       "10              10       0.000810   0.081015118%  99.970766305%\n",
       "11              11       0.000221   0.022095032%  99.992861337%\n",
       "12              12       0.000055   0.005523758%  99.998385095%\n",
       "13              13       0.000013   0.001274713%  99.999659809%\n",
       "14              14       0.000003   0.000273153%  99.999932961%"
      ]
     },
     "execution_count": 61,
     "metadata": {},
     "output_type": "execute_result"
    }
   ],
   "source": [
    "df_new_experimento"
   ]
  },
  {
   "cell_type": "code",
   "execution_count": 62,
   "id": "8cb063e6",
   "metadata": {},
   "outputs": [
    {
     "data": {
      "text/plain": [
       "[<matplotlib.lines.Line2D at 0x7f6dcb9b6790>]"
      ]
     },
     "execution_count": 62,
     "metadata": {},
     "output_type": "execute_result"
    },
    {
     "data": {
      "image/png": "[encoded data removed]",
      "text/plain": [
       "<Figure size 640x480 with 1 Axes>"
      ]
     },
     "metadata": {},
     "output_type": "display_data"
    }
   ],
   "source": [
    "m,s = 0, 1\n",
    "\n",
    "x = np.linspace(-5, 5, 100000 )\n",
    "y = (1/(s*np.sqrt(2*np.pi)))*np.exp(-0.5*((x-m)/s)**2)\n",
    "\n",
    "plt.plot(x,y)"
   ]
  },
  {
   "cell_type": "code",
   "execution_count": 68,
   "id": "ea78745a",
   "metadata": {},
   "outputs": [
    {
     "data": {
      "text/plain": [
       "<Axes: ylabel='Count'>"
      ]
     },
     "execution_count": 68,
     "metadata": {},
     "output_type": "execute_result"
    },
    {
     "data": {
      "image/png": "[encoded data removed]",
      "text/plain": [
       "<Figure size 640x480 with 1 Axes>"
      ]
     },
     "metadata": {},
     "output_type": "display_data"
    }
   ],
   "source": [
    "dados = np.random.normal(m,s,1000)\n",
    "\n",
    "sns.histplot(dados, kde = True)"
   ]
  },
  {
   "cell_type": "code",
   "execution_count": 71,
   "id": "4c3db3a2",
   "metadata": {},
   "outputs": [
    {
     "data": {
      "text/plain": [
       "<Axes: ylabel='Density'>"
      ]
     },
     "execution_count": 71,
     "metadata": {},
     "output_type": "execute_result"
    },
    {
     "data": {
      "image/png": "[encoded data removed]",
      "text/plain": [
       "<Figure size 640x480 with 1 Axes>"
      ]
     },
     "metadata": {},
     "output_type": "display_data"
    }
   ],
   "source": [
    "dados = np.random.normal(m,s,100000)\n",
    "\n",
    "sns.histplot(dados, kde = True, stat=\"density\")"
   ]
  },
  {
   "cell_type": "code",
   "execution_count": 72,
   "id": "d06dc050",
   "metadata": {},
   "outputs": [
    {
     "data": {
      "text/plain": [
       "0.68077"
      ]
     },
     "execution_count": 72,
     "metadata": {},
     "output_type": "execute_result"
    }
   ],
   "source": [
    "dados[np.abs(dados) <= 1].shape[0]/100000"
   ]
  },
  {
   "cell_type": "code",
   "execution_count": 73,
   "id": "b4fb7aab",
   "metadata": {},
   "outputs": [
    {
     "data": {
      "text/plain": [
       "0.95499"
      ]
     },
     "execution_count": 73,
     "metadata": {},
     "output_type": "execute_result"
    }
   ],
   "source": [
    "dados[np.abs(dados) <= 2].shape[0]/100000"
   ]
  },
  {
   "cell_type": "code",
   "execution_count": 74,
   "id": "bc576ab6",
   "metadata": {},
   "outputs": [
    {
     "data": {
      "text/plain": [
       "0.99744"
      ]
     },
     "execution_count": 74,
     "metadata": {},
     "output_type": "execute_result"
    }
   ],
   "source": [
    "dados[np.abs(dados) <= 3].shape[0]/100000"
   ]
  },
  {
   "cell_type": "code",
   "execution_count": null,
   "id": "5c9a853a",
   "metadata": {},
   "outputs": [],
   "source": []
  }
 ],
 "metadata": {
  "kernelspec": {
   "display_name": "Python 3 (ipykernel)",
   "language": "python",
   "name": "python3"
  },
  "language_info": {
   "codemirror_mode": {
    "name": "ipython",
    "version": 3
   },
   "file_extension": ".py",
   "mimetype": "text/x-python",
   "name": "python",
   "nbconvert_exporter": "python",
   "pygments_lexer": "ipython3",
   "version": "3.11.5"
  }
 },
 "nbformat": 4,
 "nbformat_minor": 5
}
